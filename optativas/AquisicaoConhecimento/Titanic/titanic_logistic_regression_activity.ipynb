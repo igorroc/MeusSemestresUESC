
# Atividade sobre Regressão Logística com Regularização

## Importação das bibliotecas

```python
import pandas as pd
import numpy as np
from sklearn.model_selection import train_test_split
from sklearn.linear_model import LogisticRegression
from sklearn.metrics import accuracy_score, confusion_matrix
```

## Carregando o conjunto de dados do Titanic

Substitua o caminho do arquivo pelo local onde você salvou o arquivo CSV do conjunto de dados do Titanic.

```python
# Carregando o conjunto de dados do Titanic
file_path = 'path/to/your/train.csv'
titanic_data = pd.read_csv(file_path)
```

## Pré-processamento dos dados

```python
# Convertendo a coluna 'Sex' para valores numéricos
titanic_data['Sex'] = titanic_data['Sex'].map({'male': 0, 'female': 1})

# Preenchendo valores faltantes na coluna 'Age' com a média de idade
titanic_data['Age'].fillna(titanic_data['Age'].mean(), inplace=True)

# Selecionando as variáveis para o modelo
selected_features = ['Pclass', 'Sex', 'Age', 'Fare']
X = titanic_data[selected_features]
y = titanic_data['Survived']

# Dividindo os dados em conjuntos de treinamento e teste
X_train, X_test, y_train, y_test = train_test_split(X, y, test_size=0.2, random_state=0)
```

## Implementação do Modelo de Regressão Logística

### Modelo com Regularização L1 (Lasso)

```python
# Criando e ajustando o modelo com regularização L1 (lasso)
model_l1 = LogisticRegression(penalty='l1', solver='saga', random_state=0)
model_l1.fit(X_train, y_train)

# Fazendo previsões com o conjunto de teste
y_pred_l1 = model_l1.predict(X_test)

# Calculando a acurácia do modelo com regularização L1
accuracy_l1 = accuracy_score(y_test, y_pred_l1)
print(f"Acurácia com L1 (lasso): {accuracy_l1}")
```

### Modelo com Regularização L2 (Ridge)

```python
# Criando e ajustando o modelo com regularização L2 (ridge)
model_l2 = LogisticRegression(penalty='l2', solver='saga', random_state=0)
model_l2.fit(X_train, y_train)

# Fazendo previsões com o conjunto de teste
y_pred_l2 = model_l2.predict(X_test)

# Calculando a acurácia do modelo com regularização L2
accuracy_l2 = accuracy_score(y_test, y_pred_l2)
print(f"Acurácia com L2 (ridge): {accuracy_l2}")
```

## Conclusão

Nesta atividade, implementamos um modelo de regressão logística para prever a sobrevivência de passageiros do Titanic. Também exploramos dois tipos de regularização (L1 e L2) para melhorar o desempenho do modelo. Você pode comparar as acurácias para decidir qual forma de regularização é mais eficaz para este conjunto de dados.
