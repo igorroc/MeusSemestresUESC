{
  "cells": [
    {
      "cell_type": "markdown",
      "id": "5ff0bb3e",
      "metadata": {
        "id": "5ff0bb3e"
      },
      "source": [
        "# Análise de Preço de Casas\n",
        "\n",
        "> Este notebook aborda a modelagem do preço de venda de casas."
      ]
    },
    {
      "cell_type": "markdown",
      "id": "ac40b421",
      "metadata": {
        "id": "ac40b421"
      },
      "source": [
        "## Informações do Aluno"
      ]
    },
    {
      "cell_type": "markdown",
      "id": "84215528",
      "metadata": {
        "id": "84215528"
      },
      "source": [
        "* **Nome:** Igor Lima Rocha\n",
        "* **Matrícula:** 201910282\n",
        "* **E-mail:** ilrocha.cic@uesc.br"
      ]
    },
    {
      "cell_type": "markdown",
      "id": "92b75c40",
      "metadata": {
        "id": "92b75c40"
      },
      "source": [
        "## 1. Introdução"
      ]
    },
    {
      "cell_type": "markdown",
      "source": [
        "Neste documento, apresento os passos e as técnicas utilizadas para encontrar o melhor modelo de previsão de preços de casas. O objetivo principal deste trabalho é aplicar técnicas de pré-processamento de dados, seleção de características, ajuste de hiperparâmetros e métodos de regressão para criar um modelo preciso.\n",
        "\n",
        "O conjunto de dados utilizado nesta análise é proveniente da competição [\"House Prices: Advanced Regression Techniques\"](https://www.kaggle.com/competitions/house-prices-advanced-regression-techniques) no Kaggle, que oferece um conjunto desafiador de dados relacionados aos preços de venda de casas. Vamos **explorar e manipular** esses dados de forma a extrair informações valiosas que nos permitam construir um modelo de previsão confiável.\n",
        "\n",
        "A avaliação do modelo será feita utilizando a métrica de erro **Root-Mean-Squared-Error (RMSE)** entre o logaritmo dos valores preditos e o logaritmo dos valores reais. Este relatório descreverá em detalhes cada etapa do processo, desde a **análise exploratória dos dados até a seleção de características, modelagem e avaliação final do modelo**.\n",
        "\n",
        "Espero que este relatório seja informativo e forneça insights sobre o processo de construção de um modelo de previsão de preços de casas. Vamos começar explorando os dados e aplicando as técnicas necessárias para alcançar nosso objetivo."
      ],
      "metadata": {
        "id": "Z3kB14s29c_6"
      },
      "id": "Z3kB14s29c_6"
    },
    {
      "cell_type": "markdown",
      "id": "8e329b0b",
      "metadata": {
        "id": "8e329b0b"
      },
      "source": [
        "## 2. Carregamento dos Dados"
      ]
    },
    {
      "cell_type": "markdown",
      "source": [
        "Agora, vamos carregar o conjunto de dados em um DataFrame para começar nossa análise."
      ],
      "metadata": {
        "id": "GGolAPUR9YxG"
      },
      "id": "GGolAPUR9YxG"
    },
    {
      "cell_type": "code",
      "execution_count": 1,
      "id": "3d3266bf",
      "metadata": {
        "colab": {
          "base_uri": "https://localhost:8080/",
          "height": 235
        },
        "id": "3d3266bf",
        "outputId": "7816f0eb-e5fd-49b6-a3e3-5baeb4bba0f4"
      },
      "outputs": [
        {
          "output_type": "execute_result",
          "data": {
            "text/plain": [
              "   Id  MSSubClass MSZoning  LotFrontage  LotArea Street Alley LotShape  \\\n",
              "0   1          60       RL         65.0     8450   Pave   NaN      Reg   \n",
              "1   2          20       RL         80.0     9600   Pave   NaN      Reg   \n",
              "2   3          60       RL         68.0    11250   Pave   NaN      IR1   \n",
              "3   4          70       RL         60.0     9550   Pave   NaN      IR1   \n",
              "4   5          60       RL         84.0    14260   Pave   NaN      IR1   \n",
              "\n",
              "  LandContour Utilities  ... PoolArea PoolQC Fence MiscFeature MiscVal MoSold  \\\n",
              "0         Lvl    AllPub  ...        0    NaN   NaN         NaN       0      2   \n",
              "1         Lvl    AllPub  ...        0    NaN   NaN         NaN       0      5   \n",
              "2         Lvl    AllPub  ...        0    NaN   NaN         NaN       0      9   \n",
              "3         Lvl    AllPub  ...        0    NaN   NaN         NaN       0      2   \n",
              "4         Lvl    AllPub  ...        0    NaN   NaN         NaN       0     12   \n",
              "\n",
              "  YrSold  SaleType  SaleCondition  SalePrice  \n",
              "0   2008        WD         Normal     208500  \n",
              "1   2007        WD         Normal     181500  \n",
              "2   2008        WD         Normal     223500  \n",
              "3   2006        WD        Abnorml     140000  \n",
              "4   2008        WD         Normal     250000  \n",
              "\n",
              "[5 rows x 81 columns]"
            ],
            "text/html": [
              "\n",
              "  <div id=\"df-f8113a12-1b76-4340-be4c-f54efb1de68d\" class=\"colab-df-container\">\n",
              "    <div>\n",
              "<style scoped>\n",
              "    .dataframe tbody tr th:only-of-type {\n",
              "        vertical-align: middle;\n",
              "    }\n",
              "\n",
              "    .dataframe tbody tr th {\n",
              "        vertical-align: top;\n",
              "    }\n",
              "\n",
              "    .dataframe thead th {\n",
              "        text-align: right;\n",
              "    }\n",
              "</style>\n",
              "<table border=\"1\" class=\"dataframe\">\n",
              "  <thead>\n",
              "    <tr style=\"text-align: right;\">\n",
              "      <th></th>\n",
              "      <th>Id</th>\n",
              "      <th>MSSubClass</th>\n",
              "      <th>MSZoning</th>\n",
              "      <th>LotFrontage</th>\n",
              "      <th>LotArea</th>\n",
              "      <th>Street</th>\n",
              "      <th>Alley</th>\n",
              "      <th>LotShape</th>\n",
              "      <th>LandContour</th>\n",
              "      <th>Utilities</th>\n",
              "      <th>...</th>\n",
              "      <th>PoolArea</th>\n",
              "      <th>PoolQC</th>\n",
              "      <th>Fence</th>\n",
              "      <th>MiscFeature</th>\n",
              "      <th>MiscVal</th>\n",
              "      <th>MoSold</th>\n",
              "      <th>YrSold</th>\n",
              "      <th>SaleType</th>\n",
              "      <th>SaleCondition</th>\n",
              "      <th>SalePrice</th>\n",
              "    </tr>\n",
              "  </thead>\n",
              "  <tbody>\n",
              "    <tr>\n",
              "      <th>0</th>\n",
              "      <td>1</td>\n",
              "      <td>60</td>\n",
              "      <td>RL</td>\n",
              "      <td>65.0</td>\n",
              "      <td>8450</td>\n",
              "      <td>Pave</td>\n",
              "      <td>NaN</td>\n",
              "      <td>Reg</td>\n",
              "      <td>Lvl</td>\n",
              "      <td>AllPub</td>\n",
              "      <td>...</td>\n",
              "      <td>0</td>\n",
              "      <td>NaN</td>\n",
              "      <td>NaN</td>\n",
              "      <td>NaN</td>\n",
              "      <td>0</td>\n",
              "      <td>2</td>\n",
              "      <td>2008</td>\n",
              "      <td>WD</td>\n",
              "      <td>Normal</td>\n",
              "      <td>208500</td>\n",
              "    </tr>\n",
              "    <tr>\n",
              "      <th>1</th>\n",
              "      <td>2</td>\n",
              "      <td>20</td>\n",
              "      <td>RL</td>\n",
              "      <td>80.0</td>\n",
              "      <td>9600</td>\n",
              "      <td>Pave</td>\n",
              "      <td>NaN</td>\n",
              "      <td>Reg</td>\n",
              "      <td>Lvl</td>\n",
              "      <td>AllPub</td>\n",
              "      <td>...</td>\n",
              "      <td>0</td>\n",
              "      <td>NaN</td>\n",
              "      <td>NaN</td>\n",
              "      <td>NaN</td>\n",
              "      <td>0</td>\n",
              "      <td>5</td>\n",
              "      <td>2007</td>\n",
              "      <td>WD</td>\n",
              "      <td>Normal</td>\n",
              "      <td>181500</td>\n",
              "    </tr>\n",
              "    <tr>\n",
              "      <th>2</th>\n",
              "      <td>3</td>\n",
              "      <td>60</td>\n",
              "      <td>RL</td>\n",
              "      <td>68.0</td>\n",
              "      <td>11250</td>\n",
              "      <td>Pave</td>\n",
              "      <td>NaN</td>\n",
              "      <td>IR1</td>\n",
              "      <td>Lvl</td>\n",
              "      <td>AllPub</td>\n",
              "      <td>...</td>\n",
              "      <td>0</td>\n",
              "      <td>NaN</td>\n",
              "      <td>NaN</td>\n",
              "      <td>NaN</td>\n",
              "      <td>0</td>\n",
              "      <td>9</td>\n",
              "      <td>2008</td>\n",
              "      <td>WD</td>\n",
              "      <td>Normal</td>\n",
              "      <td>223500</td>\n",
              "    </tr>\n",
              "    <tr>\n",
              "      <th>3</th>\n",
              "      <td>4</td>\n",
              "      <td>70</td>\n",
              "      <td>RL</td>\n",
              "      <td>60.0</td>\n",
              "      <td>9550</td>\n",
              "      <td>Pave</td>\n",
              "      <td>NaN</td>\n",
              "      <td>IR1</td>\n",
              "      <td>Lvl</td>\n",
              "      <td>AllPub</td>\n",
              "      <td>...</td>\n",
              "      <td>0</td>\n",
              "      <td>NaN</td>\n",
              "      <td>NaN</td>\n",
              "      <td>NaN</td>\n",
              "      <td>0</td>\n",
              "      <td>2</td>\n",
              "      <td>2006</td>\n",
              "      <td>WD</td>\n",
              "      <td>Abnorml</td>\n",
              "      <td>140000</td>\n",
              "    </tr>\n",
              "    <tr>\n",
              "      <th>4</th>\n",
              "      <td>5</td>\n",
              "      <td>60</td>\n",
              "      <td>RL</td>\n",
              "      <td>84.0</td>\n",
              "      <td>14260</td>\n",
              "      <td>Pave</td>\n",
              "      <td>NaN</td>\n",
              "      <td>IR1</td>\n",
              "      <td>Lvl</td>\n",
              "      <td>AllPub</td>\n",
              "      <td>...</td>\n",
              "      <td>0</td>\n",
              "      <td>NaN</td>\n",
              "      <td>NaN</td>\n",
              "      <td>NaN</td>\n",
              "      <td>0</td>\n",
              "      <td>12</td>\n",
              "      <td>2008</td>\n",
              "      <td>WD</td>\n",
              "      <td>Normal</td>\n",
              "      <td>250000</td>\n",
              "    </tr>\n",
              "  </tbody>\n",
              "</table>\n",
              "<p>5 rows × 81 columns</p>\n",
              "</div>\n",
              "    <div class=\"colab-df-buttons\">\n",
              "\n",
              "  <div class=\"colab-df-container\">\n",
              "    <button class=\"colab-df-convert\" onclick=\"convertToInteractive('df-f8113a12-1b76-4340-be4c-f54efb1de68d')\"\n",
              "            title=\"Convert this dataframe to an interactive table.\"\n",
              "            style=\"display:none;\">\n",
              "\n",
              "  <svg xmlns=\"http://www.w3.org/2000/svg\" height=\"24px\" viewBox=\"0 -960 960 960\">\n",
              "    <path d=\"M120-120v-720h720v720H120Zm60-500h600v-160H180v160Zm220 220h160v-160H400v160Zm0 220h160v-160H400v160ZM180-400h160v-160H180v160Zm440 0h160v-160H620v160ZM180-180h160v-160H180v160Zm440 0h160v-160H620v160Z\"/>\n",
              "  </svg>\n",
              "    </button>\n",
              "\n",
              "  <style>\n",
              "    .colab-df-container {\n",
              "      display:flex;\n",
              "      gap: 12px;\n",
              "    }\n",
              "\n",
              "    .colab-df-convert {\n",
              "      background-color: #E8F0FE;\n",
              "      border: none;\n",
              "      border-radius: 50%;\n",
              "      cursor: pointer;\n",
              "      display: none;\n",
              "      fill: #1967D2;\n",
              "      height: 32px;\n",
              "      padding: 0 0 0 0;\n",
              "      width: 32px;\n",
              "    }\n",
              "\n",
              "    .colab-df-convert:hover {\n",
              "      background-color: #E2EBFA;\n",
              "      box-shadow: 0px 1px 2px rgba(60, 64, 67, 0.3), 0px 1px 3px 1px rgba(60, 64, 67, 0.15);\n",
              "      fill: #174EA6;\n",
              "    }\n",
              "\n",
              "    .colab-df-buttons div {\n",
              "      margin-bottom: 4px;\n",
              "    }\n",
              "\n",
              "    [theme=dark] .colab-df-convert {\n",
              "      background-color: #3B4455;\n",
              "      fill: #D2E3FC;\n",
              "    }\n",
              "\n",
              "    [theme=dark] .colab-df-convert:hover {\n",
              "      background-color: #434B5C;\n",
              "      box-shadow: 0px 1px 3px 1px rgba(0, 0, 0, 0.15);\n",
              "      filter: drop-shadow(0px 1px 2px rgba(0, 0, 0, 0.3));\n",
              "      fill: #FFFFFF;\n",
              "    }\n",
              "  </style>\n",
              "\n",
              "    <script>\n",
              "      const buttonEl =\n",
              "        document.querySelector('#df-f8113a12-1b76-4340-be4c-f54efb1de68d button.colab-df-convert');\n",
              "      buttonEl.style.display =\n",
              "        google.colab.kernel.accessAllowed ? 'block' : 'none';\n",
              "\n",
              "      async function convertToInteractive(key) {\n",
              "        const element = document.querySelector('#df-f8113a12-1b76-4340-be4c-f54efb1de68d');\n",
              "        const dataTable =\n",
              "          await google.colab.kernel.invokeFunction('convertToInteractive',\n",
              "                                                    [key], {});\n",
              "        if (!dataTable) return;\n",
              "\n",
              "        const docLinkHtml = 'Like what you see? Visit the ' +\n",
              "          '<a target=\"_blank\" href=https://colab.research.google.com/notebooks/data_table.ipynb>data table notebook</a>'\n",
              "          + ' to learn more about interactive tables.';\n",
              "        element.innerHTML = '';\n",
              "        dataTable['output_type'] = 'display_data';\n",
              "        await google.colab.output.renderOutput(dataTable, element);\n",
              "        const docLink = document.createElement('div');\n",
              "        docLink.innerHTML = docLinkHtml;\n",
              "        element.appendChild(docLink);\n",
              "      }\n",
              "    </script>\n",
              "  </div>\n",
              "\n",
              "\n",
              "<div id=\"df-f1974113-39bb-4cc9-8a0c-32cf860582fe\">\n",
              "  <button class=\"colab-df-quickchart\" onclick=\"quickchart('df-f1974113-39bb-4cc9-8a0c-32cf860582fe')\"\n",
              "            title=\"Suggest charts.\"\n",
              "            style=\"display:none;\">\n",
              "\n",
              "<svg xmlns=\"http://www.w3.org/2000/svg\" height=\"24px\"viewBox=\"0 0 24 24\"\n",
              "     width=\"24px\">\n",
              "    <g>\n",
              "        <path d=\"M19 3H5c-1.1 0-2 .9-2 2v14c0 1.1.9 2 2 2h14c1.1 0 2-.9 2-2V5c0-1.1-.9-2-2-2zM9 17H7v-7h2v7zm4 0h-2V7h2v10zm4 0h-2v-4h2v4z\"/>\n",
              "    </g>\n",
              "</svg>\n",
              "  </button>\n",
              "\n",
              "<style>\n",
              "  .colab-df-quickchart {\n",
              "      --bg-color: #E8F0FE;\n",
              "      --fill-color: #1967D2;\n",
              "      --hover-bg-color: #E2EBFA;\n",
              "      --hover-fill-color: #174EA6;\n",
              "      --disabled-fill-color: #AAA;\n",
              "      --disabled-bg-color: #DDD;\n",
              "  }\n",
              "\n",
              "  [theme=dark] .colab-df-quickchart {\n",
              "      --bg-color: #3B4455;\n",
              "      --fill-color: #D2E3FC;\n",
              "      --hover-bg-color: #434B5C;\n",
              "      --hover-fill-color: #FFFFFF;\n",
              "      --disabled-bg-color: #3B4455;\n",
              "      --disabled-fill-color: #666;\n",
              "  }\n",
              "\n",
              "  .colab-df-quickchart {\n",
              "    background-color: var(--bg-color);\n",
              "    border: none;\n",
              "    border-radius: 50%;\n",
              "    cursor: pointer;\n",
              "    display: none;\n",
              "    fill: var(--fill-color);\n",
              "    height: 32px;\n",
              "    padding: 0;\n",
              "    width: 32px;\n",
              "  }\n",
              "\n",
              "  .colab-df-quickchart:hover {\n",
              "    background-color: var(--hover-bg-color);\n",
              "    box-shadow: 0 1px 2px rgba(60, 64, 67, 0.3), 0 1px 3px 1px rgba(60, 64, 67, 0.15);\n",
              "    fill: var(--button-hover-fill-color);\n",
              "  }\n",
              "\n",
              "  .colab-df-quickchart-complete:disabled,\n",
              "  .colab-df-quickchart-complete:disabled:hover {\n",
              "    background-color: var(--disabled-bg-color);\n",
              "    fill: var(--disabled-fill-color);\n",
              "    box-shadow: none;\n",
              "  }\n",
              "\n",
              "  .colab-df-spinner {\n",
              "    border: 2px solid var(--fill-color);\n",
              "    border-color: transparent;\n",
              "    border-bottom-color: var(--fill-color);\n",
              "    animation:\n",
              "      spin 1s steps(1) infinite;\n",
              "  }\n",
              "\n",
              "  @keyframes spin {\n",
              "    0% {\n",
              "      border-color: transparent;\n",
              "      border-bottom-color: var(--fill-color);\n",
              "      border-left-color: var(--fill-color);\n",
              "    }\n",
              "    20% {\n",
              "      border-color: transparent;\n",
              "      border-left-color: var(--fill-color);\n",
              "      border-top-color: var(--fill-color);\n",
              "    }\n",
              "    30% {\n",
              "      border-color: transparent;\n",
              "      border-left-color: var(--fill-color);\n",
              "      border-top-color: var(--fill-color);\n",
              "      border-right-color: var(--fill-color);\n",
              "    }\n",
              "    40% {\n",
              "      border-color: transparent;\n",
              "      border-right-color: var(--fill-color);\n",
              "      border-top-color: var(--fill-color);\n",
              "    }\n",
              "    60% {\n",
              "      border-color: transparent;\n",
              "      border-right-color: var(--fill-color);\n",
              "    }\n",
              "    80% {\n",
              "      border-color: transparent;\n",
              "      border-right-color: var(--fill-color);\n",
              "      border-bottom-color: var(--fill-color);\n",
              "    }\n",
              "    90% {\n",
              "      border-color: transparent;\n",
              "      border-bottom-color: var(--fill-color);\n",
              "    }\n",
              "  }\n",
              "</style>\n",
              "\n",
              "  <script>\n",
              "    async function quickchart(key) {\n",
              "      const quickchartButtonEl =\n",
              "        document.querySelector('#' + key + ' button');\n",
              "      quickchartButtonEl.disabled = true;  // To prevent multiple clicks.\n",
              "      quickchartButtonEl.classList.add('colab-df-spinner');\n",
              "      try {\n",
              "        const charts = await google.colab.kernel.invokeFunction(\n",
              "            'suggestCharts', [key], {});\n",
              "      } catch (error) {\n",
              "        console.error('Error during call to suggestCharts:', error);\n",
              "      }\n",
              "      quickchartButtonEl.classList.remove('colab-df-spinner');\n",
              "      quickchartButtonEl.classList.add('colab-df-quickchart-complete');\n",
              "    }\n",
              "    (() => {\n",
              "      let quickchartButtonEl =\n",
              "        document.querySelector('#df-f1974113-39bb-4cc9-8a0c-32cf860582fe button');\n",
              "      quickchartButtonEl.style.display =\n",
              "        google.colab.kernel.accessAllowed ? 'block' : 'none';\n",
              "    })();\n",
              "  </script>\n",
              "</div>\n",
              "    </div>\n",
              "  </div>\n"
            ]
          },
          "metadata": {},
          "execution_count": 1
        }
      ],
      "source": [
        "import pandas as pd\n",
        "\n",
        "# Carregar o dataset\n",
        "df = pd.read_csv('houses.csv')\n",
        "\n",
        "# Salvando o dataset original como backup, para avaliações futuras\n",
        "df_original = df.copy()\n",
        "\n",
        "df.head()"
      ]
    },
    {
      "cell_type": "markdown",
      "source": [
        "Com o DataFrame carregado, podemos prosseguir para as próximas etapas."
      ],
      "metadata": {
        "id": "Qjywy3tXcX8s"
      },
      "id": "Qjywy3tXcX8s"
    },
    {
      "cell_type": "markdown",
      "id": "bbe05d0a",
      "metadata": {
        "id": "bbe05d0a"
      },
      "source": [
        "## 3. Checagem dos Tipos de Dados"
      ]
    },
    {
      "cell_type": "markdown",
      "source": [
        "É crucial conhecer os tipos de dados com os quais estamos trabalhando. Vamos dar uma olhada."
      ],
      "metadata": {
        "id": "14wiKrS79WQF"
      },
      "id": "14wiKrS79WQF"
    },
    {
      "cell_type": "code",
      "execution_count": 2,
      "id": "1da257ec",
      "metadata": {
        "colab": {
          "base_uri": "https://localhost:8080/"
        },
        "id": "1da257ec",
        "outputId": "b6054c88-0257-4479-e61e-7f13cd51c929"
      },
      "outputs": [
        {
          "output_type": "execute_result",
          "data": {
            "text/plain": [
              "Id                 int64\n",
              "MSSubClass         int64\n",
              "MSZoning          object\n",
              "LotFrontage      float64\n",
              "LotArea            int64\n",
              "                  ...   \n",
              "MoSold             int64\n",
              "YrSold             int64\n",
              "SaleType          object\n",
              "SaleCondition     object\n",
              "SalePrice          int64\n",
              "Length: 81, dtype: object"
            ]
          },
          "metadata": {},
          "execution_count": 2
        }
      ],
      "source": [
        "df.dtypes"
      ]
    },
    {
      "cell_type": "markdown",
      "source": [
        "Com isso, podemos ver que o conjunto de dados contém diversos tipos de dados.\n",
        "\n",
        "Com isso em mente, vamos começar a tratá-los, removendo valores ausentes e codificando tipos categóricos."
      ],
      "metadata": {
        "id": "Bw1Xj82Lcbj8"
      },
      "id": "Bw1Xj82Lcbj8"
    },
    {
      "cell_type": "markdown",
      "id": "685453af",
      "metadata": {
        "id": "685453af"
      },
      "source": [
        "## 4. Limpeza dos Dados"
      ]
    },
    {
      "cell_type": "markdown",
      "source": [
        "### 4.1 Tratamento de Valores Ausentes"
      ],
      "metadata": {
        "id": "pGVLFyEw9O-E"
      },
      "id": "pGVLFyEw9O-E"
    },
    {
      "cell_type": "markdown",
      "source": [
        "A primeira etapa da limpeza de dados envolve o tratamento de valores ausentes."
      ],
      "metadata": {
        "id": "oQTmMLdA9QkD"
      },
      "id": "oQTmMLdA9QkD"
    },
    {
      "cell_type": "code",
      "source": [
        "# Criar uma cópia do dataframe para não alterar o original\n",
        "df_cleaned = df.copy()\n",
        "\n",
        "# Calcule a proporção de valores ausentes em cada coluna\n",
        "missing_ratio = df_cleaned.isnull().mean()\n",
        "\n",
        "# Limite para a proporção de valores ausentes (50%)\n",
        "threshold = 0.5\n",
        "\n",
        "# Identifique as colunas que excedem o limite\n",
        "columns_to_remove = missing_ratio[missing_ratio > threshold].index.tolist()\n",
        "\n",
        "print(\"Colunas com muitos NaN:\", columns_to_remove)\n",
        "\n",
        "# Remova as colunas identificadas do seu conjunto de dados\n",
        "#df_cleaned = df_cleaned.drop(columns=columns_to_remove)"
      ],
      "metadata": {
        "colab": {
          "base_uri": "https://localhost:8080/"
        },
        "id": "QsA6_OOSckMQ",
        "outputId": "155036ed-54fd-48e7-c714-b69ca8dfaa4f"
      },
      "id": "QsA6_OOSckMQ",
      "execution_count": 3,
      "outputs": [
        {
          "output_type": "stream",
          "name": "stdout",
          "text": [
            "Colunas com muitos NaN: ['Alley', 'PoolQC', 'Fence', 'MiscFeature']\n"
          ]
        }
      ]
    },
    {
      "cell_type": "code",
      "source": [
        "import numpy as np\n",
        "\n",
        "# Tratar colunas numéricas: preencher valores ausentes com a mediana da coluna\n",
        "for col in df_cleaned.select_dtypes(include=[np.number]).columns:\n",
        "    df_cleaned[col].fillna(df_cleaned[col].median(), inplace=True)\n",
        "\n",
        "# Tratar colunas categóricas: preencher valores ausentes com a moda (valor mais frequente)\n",
        "for col in df_cleaned.select_dtypes(include=['object']).columns:\n",
        "    df_cleaned[col].fillna(df_cleaned[col].mode()[0], inplace=True)\n",
        "\n",
        "\n",
        "df_cleaned.head()"
      ],
      "metadata": {
        "colab": {
          "base_uri": "https://localhost:8080/",
          "height": 0
        },
        "id": "ua8gd8iz4iO6",
        "outputId": "f758a2c6-d2dc-4a07-95d9-15c9993e1b37"
      },
      "id": "ua8gd8iz4iO6",
      "execution_count": 4,
      "outputs": [
        {
          "output_type": "execute_result",
          "data": {
            "text/plain": [
              "   Id  MSSubClass MSZoning  LotFrontage  LotArea Street Alley LotShape  \\\n",
              "0   1          60       RL         65.0     8450   Pave  Grvl      Reg   \n",
              "1   2          20       RL         80.0     9600   Pave  Grvl      Reg   \n",
              "2   3          60       RL         68.0    11250   Pave  Grvl      IR1   \n",
              "3   4          70       RL         60.0     9550   Pave  Grvl      IR1   \n",
              "4   5          60       RL         84.0    14260   Pave  Grvl      IR1   \n",
              "\n",
              "  LandContour Utilities  ... PoolArea PoolQC  Fence MiscFeature MiscVal  \\\n",
              "0         Lvl    AllPub  ...        0     Gd  MnPrv        Shed       0   \n",
              "1         Lvl    AllPub  ...        0     Gd  MnPrv        Shed       0   \n",
              "2         Lvl    AllPub  ...        0     Gd  MnPrv        Shed       0   \n",
              "3         Lvl    AllPub  ...        0     Gd  MnPrv        Shed       0   \n",
              "4         Lvl    AllPub  ...        0     Gd  MnPrv        Shed       0   \n",
              "\n",
              "  MoSold YrSold  SaleType  SaleCondition  SalePrice  \n",
              "0      2   2008        WD         Normal     208500  \n",
              "1      5   2007        WD         Normal     181500  \n",
              "2      9   2008        WD         Normal     223500  \n",
              "3      2   2006        WD        Abnorml     140000  \n",
              "4     12   2008        WD         Normal     250000  \n",
              "\n",
              "[5 rows x 81 columns]"
            ],
            "text/html": [
              "\n",
              "  <div id=\"df-45106a3e-9b66-439d-94b3-3623c536b50f\" class=\"colab-df-container\">\n",
              "    <div>\n",
              "<style scoped>\n",
              "    .dataframe tbody tr th:only-of-type {\n",
              "        vertical-align: middle;\n",
              "    }\n",
              "\n",
              "    .dataframe tbody tr th {\n",
              "        vertical-align: top;\n",
              "    }\n",
              "\n",
              "    .dataframe thead th {\n",
              "        text-align: right;\n",
              "    }\n",
              "</style>\n",
              "<table border=\"1\" class=\"dataframe\">\n",
              "  <thead>\n",
              "    <tr style=\"text-align: right;\">\n",
              "      <th></th>\n",
              "      <th>Id</th>\n",
              "      <th>MSSubClass</th>\n",
              "      <th>MSZoning</th>\n",
              "      <th>LotFrontage</th>\n",
              "      <th>LotArea</th>\n",
              "      <th>Street</th>\n",
              "      <th>Alley</th>\n",
              "      <th>LotShape</th>\n",
              "      <th>LandContour</th>\n",
              "      <th>Utilities</th>\n",
              "      <th>...</th>\n",
              "      <th>PoolArea</th>\n",
              "      <th>PoolQC</th>\n",
              "      <th>Fence</th>\n",
              "      <th>MiscFeature</th>\n",
              "      <th>MiscVal</th>\n",
              "      <th>MoSold</th>\n",
              "      <th>YrSold</th>\n",
              "      <th>SaleType</th>\n",
              "      <th>SaleCondition</th>\n",
              "      <th>SalePrice</th>\n",
              "    </tr>\n",
              "  </thead>\n",
              "  <tbody>\n",
              "    <tr>\n",
              "      <th>0</th>\n",
              "      <td>1</td>\n",
              "      <td>60</td>\n",
              "      <td>RL</td>\n",
              "      <td>65.0</td>\n",
              "      <td>8450</td>\n",
              "      <td>Pave</td>\n",
              "      <td>Grvl</td>\n",
              "      <td>Reg</td>\n",
              "      <td>Lvl</td>\n",
              "      <td>AllPub</td>\n",
              "      <td>...</td>\n",
              "      <td>0</td>\n",
              "      <td>Gd</td>\n",
              "      <td>MnPrv</td>\n",
              "      <td>Shed</td>\n",
              "      <td>0</td>\n",
              "      <td>2</td>\n",
              "      <td>2008</td>\n",
              "      <td>WD</td>\n",
              "      <td>Normal</td>\n",
              "      <td>208500</td>\n",
              "    </tr>\n",
              "    <tr>\n",
              "      <th>1</th>\n",
              "      <td>2</td>\n",
              "      <td>20</td>\n",
              "      <td>RL</td>\n",
              "      <td>80.0</td>\n",
              "      <td>9600</td>\n",
              "      <td>Pave</td>\n",
              "      <td>Grvl</td>\n",
              "      <td>Reg</td>\n",
              "      <td>Lvl</td>\n",
              "      <td>AllPub</td>\n",
              "      <td>...</td>\n",
              "      <td>0</td>\n",
              "      <td>Gd</td>\n",
              "      <td>MnPrv</td>\n",
              "      <td>Shed</td>\n",
              "      <td>0</td>\n",
              "      <td>5</td>\n",
              "      <td>2007</td>\n",
              "      <td>WD</td>\n",
              "      <td>Normal</td>\n",
              "      <td>181500</td>\n",
              "    </tr>\n",
              "    <tr>\n",
              "      <th>2</th>\n",
              "      <td>3</td>\n",
              "      <td>60</td>\n",
              "      <td>RL</td>\n",
              "      <td>68.0</td>\n",
              "      <td>11250</td>\n",
              "      <td>Pave</td>\n",
              "      <td>Grvl</td>\n",
              "      <td>IR1</td>\n",
              "      <td>Lvl</td>\n",
              "      <td>AllPub</td>\n",
              "      <td>...</td>\n",
              "      <td>0</td>\n",
              "      <td>Gd</td>\n",
              "      <td>MnPrv</td>\n",
              "      <td>Shed</td>\n",
              "      <td>0</td>\n",
              "      <td>9</td>\n",
              "      <td>2008</td>\n",
              "      <td>WD</td>\n",
              "      <td>Normal</td>\n",
              "      <td>223500</td>\n",
              "    </tr>\n",
              "    <tr>\n",
              "      <th>3</th>\n",
              "      <td>4</td>\n",
              "      <td>70</td>\n",
              "      <td>RL</td>\n",
              "      <td>60.0</td>\n",
              "      <td>9550</td>\n",
              "      <td>Pave</td>\n",
              "      <td>Grvl</td>\n",
              "      <td>IR1</td>\n",
              "      <td>Lvl</td>\n",
              "      <td>AllPub</td>\n",
              "      <td>...</td>\n",
              "      <td>0</td>\n",
              "      <td>Gd</td>\n",
              "      <td>MnPrv</td>\n",
              "      <td>Shed</td>\n",
              "      <td>0</td>\n",
              "      <td>2</td>\n",
              "      <td>2006</td>\n",
              "      <td>WD</td>\n",
              "      <td>Abnorml</td>\n",
              "      <td>140000</td>\n",
              "    </tr>\n",
              "    <tr>\n",
              "      <th>4</th>\n",
              "      <td>5</td>\n",
              "      <td>60</td>\n",
              "      <td>RL</td>\n",
              "      <td>84.0</td>\n",
              "      <td>14260</td>\n",
              "      <td>Pave</td>\n",
              "      <td>Grvl</td>\n",
              "      <td>IR1</td>\n",
              "      <td>Lvl</td>\n",
              "      <td>AllPub</td>\n",
              "      <td>...</td>\n",
              "      <td>0</td>\n",
              "      <td>Gd</td>\n",
              "      <td>MnPrv</td>\n",
              "      <td>Shed</td>\n",
              "      <td>0</td>\n",
              "      <td>12</td>\n",
              "      <td>2008</td>\n",
              "      <td>WD</td>\n",
              "      <td>Normal</td>\n",
              "      <td>250000</td>\n",
              "    </tr>\n",
              "  </tbody>\n",
              "</table>\n",
              "<p>5 rows × 81 columns</p>\n",
              "</div>\n",
              "    <div class=\"colab-df-buttons\">\n",
              "\n",
              "  <div class=\"colab-df-container\">\n",
              "    <button class=\"colab-df-convert\" onclick=\"convertToInteractive('df-45106a3e-9b66-439d-94b3-3623c536b50f')\"\n",
              "            title=\"Convert this dataframe to an interactive table.\"\n",
              "            style=\"display:none;\">\n",
              "\n",
              "  <svg xmlns=\"http://www.w3.org/2000/svg\" height=\"24px\" viewBox=\"0 -960 960 960\">\n",
              "    <path d=\"M120-120v-720h720v720H120Zm60-500h600v-160H180v160Zm220 220h160v-160H400v160Zm0 220h160v-160H400v160ZM180-400h160v-160H180v160Zm440 0h160v-160H620v160ZM180-180h160v-160H180v160Zm440 0h160v-160H620v160Z\"/>\n",
              "  </svg>\n",
              "    </button>\n",
              "\n",
              "  <style>\n",
              "    .colab-df-container {\n",
              "      display:flex;\n",
              "      gap: 12px;\n",
              "    }\n",
              "\n",
              "    .colab-df-convert {\n",
              "      background-color: #E8F0FE;\n",
              "      border: none;\n",
              "      border-radius: 50%;\n",
              "      cursor: pointer;\n",
              "      display: none;\n",
              "      fill: #1967D2;\n",
              "      height: 32px;\n",
              "      padding: 0 0 0 0;\n",
              "      width: 32px;\n",
              "    }\n",
              "\n",
              "    .colab-df-convert:hover {\n",
              "      background-color: #E2EBFA;\n",
              "      box-shadow: 0px 1px 2px rgba(60, 64, 67, 0.3), 0px 1px 3px 1px rgba(60, 64, 67, 0.15);\n",
              "      fill: #174EA6;\n",
              "    }\n",
              "\n",
              "    .colab-df-buttons div {\n",
              "      margin-bottom: 4px;\n",
              "    }\n",
              "\n",
              "    [theme=dark] .colab-df-convert {\n",
              "      background-color: #3B4455;\n",
              "      fill: #D2E3FC;\n",
              "    }\n",
              "\n",
              "    [theme=dark] .colab-df-convert:hover {\n",
              "      background-color: #434B5C;\n",
              "      box-shadow: 0px 1px 3px 1px rgba(0, 0, 0, 0.15);\n",
              "      filter: drop-shadow(0px 1px 2px rgba(0, 0, 0, 0.3));\n",
              "      fill: #FFFFFF;\n",
              "    }\n",
              "  </style>\n",
              "\n",
              "    <script>\n",
              "      const buttonEl =\n",
              "        document.querySelector('#df-45106a3e-9b66-439d-94b3-3623c536b50f button.colab-df-convert');\n",
              "      buttonEl.style.display =\n",
              "        google.colab.kernel.accessAllowed ? 'block' : 'none';\n",
              "\n",
              "      async function convertToInteractive(key) {\n",
              "        const element = document.querySelector('#df-45106a3e-9b66-439d-94b3-3623c536b50f');\n",
              "        const dataTable =\n",
              "          await google.colab.kernel.invokeFunction('convertToInteractive',\n",
              "                                                    [key], {});\n",
              "        if (!dataTable) return;\n",
              "\n",
              "        const docLinkHtml = 'Like what you see? Visit the ' +\n",
              "          '<a target=\"_blank\" href=https://colab.research.google.com/notebooks/data_table.ipynb>data table notebook</a>'\n",
              "          + ' to learn more about interactive tables.';\n",
              "        element.innerHTML = '';\n",
              "        dataTable['output_type'] = 'display_data';\n",
              "        await google.colab.output.renderOutput(dataTable, element);\n",
              "        const docLink = document.createElement('div');\n",
              "        docLink.innerHTML = docLinkHtml;\n",
              "        element.appendChild(docLink);\n",
              "      }\n",
              "    </script>\n",
              "  </div>\n",
              "\n",
              "\n",
              "<div id=\"df-17458afd-413d-41c2-9d96-eea506e00fc5\">\n",
              "  <button class=\"colab-df-quickchart\" onclick=\"quickchart('df-17458afd-413d-41c2-9d96-eea506e00fc5')\"\n",
              "            title=\"Suggest charts.\"\n",
              "            style=\"display:none;\">\n",
              "\n",
              "<svg xmlns=\"http://www.w3.org/2000/svg\" height=\"24px\"viewBox=\"0 0 24 24\"\n",
              "     width=\"24px\">\n",
              "    <g>\n",
              "        <path d=\"M19 3H5c-1.1 0-2 .9-2 2v14c0 1.1.9 2 2 2h14c1.1 0 2-.9 2-2V5c0-1.1-.9-2-2-2zM9 17H7v-7h2v7zm4 0h-2V7h2v10zm4 0h-2v-4h2v4z\"/>\n",
              "    </g>\n",
              "</svg>\n",
              "  </button>\n",
              "\n",
              "<style>\n",
              "  .colab-df-quickchart {\n",
              "      --bg-color: #E8F0FE;\n",
              "      --fill-color: #1967D2;\n",
              "      --hover-bg-color: #E2EBFA;\n",
              "      --hover-fill-color: #174EA6;\n",
              "      --disabled-fill-color: #AAA;\n",
              "      --disabled-bg-color: #DDD;\n",
              "  }\n",
              "\n",
              "  [theme=dark] .colab-df-quickchart {\n",
              "      --bg-color: #3B4455;\n",
              "      --fill-color: #D2E3FC;\n",
              "      --hover-bg-color: #434B5C;\n",
              "      --hover-fill-color: #FFFFFF;\n",
              "      --disabled-bg-color: #3B4455;\n",
              "      --disabled-fill-color: #666;\n",
              "  }\n",
              "\n",
              "  .colab-df-quickchart {\n",
              "    background-color: var(--bg-color);\n",
              "    border: none;\n",
              "    border-radius: 50%;\n",
              "    cursor: pointer;\n",
              "    display: none;\n",
              "    fill: var(--fill-color);\n",
              "    height: 32px;\n",
              "    padding: 0;\n",
              "    width: 32px;\n",
              "  }\n",
              "\n",
              "  .colab-df-quickchart:hover {\n",
              "    background-color: var(--hover-bg-color);\n",
              "    box-shadow: 0 1px 2px rgba(60, 64, 67, 0.3), 0 1px 3px 1px rgba(60, 64, 67, 0.15);\n",
              "    fill: var(--button-hover-fill-color);\n",
              "  }\n",
              "\n",
              "  .colab-df-quickchart-complete:disabled,\n",
              "  .colab-df-quickchart-complete:disabled:hover {\n",
              "    background-color: var(--disabled-bg-color);\n",
              "    fill: var(--disabled-fill-color);\n",
              "    box-shadow: none;\n",
              "  }\n",
              "\n",
              "  .colab-df-spinner {\n",
              "    border: 2px solid var(--fill-color);\n",
              "    border-color: transparent;\n",
              "    border-bottom-color: var(--fill-color);\n",
              "    animation:\n",
              "      spin 1s steps(1) infinite;\n",
              "  }\n",
              "\n",
              "  @keyframes spin {\n",
              "    0% {\n",
              "      border-color: transparent;\n",
              "      border-bottom-color: var(--fill-color);\n",
              "      border-left-color: var(--fill-color);\n",
              "    }\n",
              "    20% {\n",
              "      border-color: transparent;\n",
              "      border-left-color: var(--fill-color);\n",
              "      border-top-color: var(--fill-color);\n",
              "    }\n",
              "    30% {\n",
              "      border-color: transparent;\n",
              "      border-left-color: var(--fill-color);\n",
              "      border-top-color: var(--fill-color);\n",
              "      border-right-color: var(--fill-color);\n",
              "    }\n",
              "    40% {\n",
              "      border-color: transparent;\n",
              "      border-right-color: var(--fill-color);\n",
              "      border-top-color: var(--fill-color);\n",
              "    }\n",
              "    60% {\n",
              "      border-color: transparent;\n",
              "      border-right-color: var(--fill-color);\n",
              "    }\n",
              "    80% {\n",
              "      border-color: transparent;\n",
              "      border-right-color: var(--fill-color);\n",
              "      border-bottom-color: var(--fill-color);\n",
              "    }\n",
              "    90% {\n",
              "      border-color: transparent;\n",
              "      border-bottom-color: var(--fill-color);\n",
              "    }\n",
              "  }\n",
              "</style>\n",
              "\n",
              "  <script>\n",
              "    async function quickchart(key) {\n",
              "      const quickchartButtonEl =\n",
              "        document.querySelector('#' + key + ' button');\n",
              "      quickchartButtonEl.disabled = true;  // To prevent multiple clicks.\n",
              "      quickchartButtonEl.classList.add('colab-df-spinner');\n",
              "      try {\n",
              "        const charts = await google.colab.kernel.invokeFunction(\n",
              "            'suggestCharts', [key], {});\n",
              "      } catch (error) {\n",
              "        console.error('Error during call to suggestCharts:', error);\n",
              "      }\n",
              "      quickchartButtonEl.classList.remove('colab-df-spinner');\n",
              "      quickchartButtonEl.classList.add('colab-df-quickchart-complete');\n",
              "    }\n",
              "    (() => {\n",
              "      let quickchartButtonEl =\n",
              "        document.querySelector('#df-17458afd-413d-41c2-9d96-eea506e00fc5 button');\n",
              "      quickchartButtonEl.style.display =\n",
              "        google.colab.kernel.accessAllowed ? 'block' : 'none';\n",
              "    })();\n",
              "  </script>\n",
              "</div>\n",
              "    </div>\n",
              "  </div>\n"
            ]
          },
          "metadata": {},
          "execution_count": 4
        }
      ]
    },
    {
      "cell_type": "markdown",
      "source": [
        "Agora que tratamos os valores ausentes, podemos seguir para a próxima etapa."
      ],
      "metadata": {
        "id": "z_2Rb4JAcnC5"
      },
      "id": "z_2Rb4JAcnC5"
    },
    {
      "cell_type": "markdown",
      "source": [
        "### 4.2 Codificação de Variáveis Categóricas"
      ],
      "metadata": {
        "id": "jTvE9ygZcpV9"
      },
      "id": "jTvE9ygZcpV9"
    },
    {
      "cell_type": "markdown",
      "source": [
        "A próxima etapa é transformar variáveis categóricas em um formato que possa ser fornecido aos algoritmos de ML para fazer uma previsão precisa."
      ],
      "metadata": {
        "id": "A0-z6Hj79TSX"
      },
      "id": "A0-z6Hj79TSX"
    },
    {
      "cell_type": "code",
      "source": [
        "from sklearn.preprocessing import LabelEncoder\n",
        "\n",
        "# Inicializar o codificador\n",
        "le = LabelEncoder()\n",
        "\n",
        "# Codificar todas as colunas categóricas\n",
        "for col in df_cleaned.select_dtypes(include=['object']).columns:\n",
        "    df_cleaned[col] = le.fit_transform(df_cleaned[col])\n",
        "\n",
        "df_cleaned.head()"
      ],
      "metadata": {
        "colab": {
          "base_uri": "https://localhost:8080/",
          "height": 0
        },
        "id": "YwKNFW8Qck9Y",
        "outputId": "97609223-6f37-46c7-b4b9-5d99131c77b2"
      },
      "id": "YwKNFW8Qck9Y",
      "execution_count": 5,
      "outputs": [
        {
          "output_type": "execute_result",
          "data": {
            "text/plain": [
              "   Id  MSSubClass  MSZoning  LotFrontage  LotArea  Street  Alley  LotShape  \\\n",
              "0   1          60         3         65.0     8450       1      0         3   \n",
              "1   2          20         3         80.0     9600       1      0         3   \n",
              "2   3          60         3         68.0    11250       1      0         0   \n",
              "3   4          70         3         60.0     9550       1      0         0   \n",
              "4   5          60         3         84.0    14260       1      0         0   \n",
              "\n",
              "   LandContour  Utilities  ...  PoolArea  PoolQC  Fence  MiscFeature  MiscVal  \\\n",
              "0            3          0  ...         0       2      2            2        0   \n",
              "1            3          0  ...         0       2      2            2        0   \n",
              "2            3          0  ...         0       2      2            2        0   \n",
              "3            3          0  ...         0       2      2            2        0   \n",
              "4            3          0  ...         0       2      2            2        0   \n",
              "\n",
              "   MoSold  YrSold  SaleType  SaleCondition  SalePrice  \n",
              "0       2    2008         8              4     208500  \n",
              "1       5    2007         8              4     181500  \n",
              "2       9    2008         8              4     223500  \n",
              "3       2    2006         8              0     140000  \n",
              "4      12    2008         8              4     250000  \n",
              "\n",
              "[5 rows x 81 columns]"
            ],
            "text/html": [
              "\n",
              "  <div id=\"df-d19a74e1-3837-43f1-b886-5a63f51cd5b2\" class=\"colab-df-container\">\n",
              "    <div>\n",
              "<style scoped>\n",
              "    .dataframe tbody tr th:only-of-type {\n",
              "        vertical-align: middle;\n",
              "    }\n",
              "\n",
              "    .dataframe tbody tr th {\n",
              "        vertical-align: top;\n",
              "    }\n",
              "\n",
              "    .dataframe thead th {\n",
              "        text-align: right;\n",
              "    }\n",
              "</style>\n",
              "<table border=\"1\" class=\"dataframe\">\n",
              "  <thead>\n",
              "    <tr style=\"text-align: right;\">\n",
              "      <th></th>\n",
              "      <th>Id</th>\n",
              "      <th>MSSubClass</th>\n",
              "      <th>MSZoning</th>\n",
              "      <th>LotFrontage</th>\n",
              "      <th>LotArea</th>\n",
              "      <th>Street</th>\n",
              "      <th>Alley</th>\n",
              "      <th>LotShape</th>\n",
              "      <th>LandContour</th>\n",
              "      <th>Utilities</th>\n",
              "      <th>...</th>\n",
              "      <th>PoolArea</th>\n",
              "      <th>PoolQC</th>\n",
              "      <th>Fence</th>\n",
              "      <th>MiscFeature</th>\n",
              "      <th>MiscVal</th>\n",
              "      <th>MoSold</th>\n",
              "      <th>YrSold</th>\n",
              "      <th>SaleType</th>\n",
              "      <th>SaleCondition</th>\n",
              "      <th>SalePrice</th>\n",
              "    </tr>\n",
              "  </thead>\n",
              "  <tbody>\n",
              "    <tr>\n",
              "      <th>0</th>\n",
              "      <td>1</td>\n",
              "      <td>60</td>\n",
              "      <td>3</td>\n",
              "      <td>65.0</td>\n",
              "      <td>8450</td>\n",
              "      <td>1</td>\n",
              "      <td>0</td>\n",
              "      <td>3</td>\n",
              "      <td>3</td>\n",
              "      <td>0</td>\n",
              "      <td>...</td>\n",
              "      <td>0</td>\n",
              "      <td>2</td>\n",
              "      <td>2</td>\n",
              "      <td>2</td>\n",
              "      <td>0</td>\n",
              "      <td>2</td>\n",
              "      <td>2008</td>\n",
              "      <td>8</td>\n",
              "      <td>4</td>\n",
              "      <td>208500</td>\n",
              "    </tr>\n",
              "    <tr>\n",
              "      <th>1</th>\n",
              "      <td>2</td>\n",
              "      <td>20</td>\n",
              "      <td>3</td>\n",
              "      <td>80.0</td>\n",
              "      <td>9600</td>\n",
              "      <td>1</td>\n",
              "      <td>0</td>\n",
              "      <td>3</td>\n",
              "      <td>3</td>\n",
              "      <td>0</td>\n",
              "      <td>...</td>\n",
              "      <td>0</td>\n",
              "      <td>2</td>\n",
              "      <td>2</td>\n",
              "      <td>2</td>\n",
              "      <td>0</td>\n",
              "      <td>5</td>\n",
              "      <td>2007</td>\n",
              "      <td>8</td>\n",
              "      <td>4</td>\n",
              "      <td>181500</td>\n",
              "    </tr>\n",
              "    <tr>\n",
              "      <th>2</th>\n",
              "      <td>3</td>\n",
              "      <td>60</td>\n",
              "      <td>3</td>\n",
              "      <td>68.0</td>\n",
              "      <td>11250</td>\n",
              "      <td>1</td>\n",
              "      <td>0</td>\n",
              "      <td>0</td>\n",
              "      <td>3</td>\n",
              "      <td>0</td>\n",
              "      <td>...</td>\n",
              "      <td>0</td>\n",
              "      <td>2</td>\n",
              "      <td>2</td>\n",
              "      <td>2</td>\n",
              "      <td>0</td>\n",
              "      <td>9</td>\n",
              "      <td>2008</td>\n",
              "      <td>8</td>\n",
              "      <td>4</td>\n",
              "      <td>223500</td>\n",
              "    </tr>\n",
              "    <tr>\n",
              "      <th>3</th>\n",
              "      <td>4</td>\n",
              "      <td>70</td>\n",
              "      <td>3</td>\n",
              "      <td>60.0</td>\n",
              "      <td>9550</td>\n",
              "      <td>1</td>\n",
              "      <td>0</td>\n",
              "      <td>0</td>\n",
              "      <td>3</td>\n",
              "      <td>0</td>\n",
              "      <td>...</td>\n",
              "      <td>0</td>\n",
              "      <td>2</td>\n",
              "      <td>2</td>\n",
              "      <td>2</td>\n",
              "      <td>0</td>\n",
              "      <td>2</td>\n",
              "      <td>2006</td>\n",
              "      <td>8</td>\n",
              "      <td>0</td>\n",
              "      <td>140000</td>\n",
              "    </tr>\n",
              "    <tr>\n",
              "      <th>4</th>\n",
              "      <td>5</td>\n",
              "      <td>60</td>\n",
              "      <td>3</td>\n",
              "      <td>84.0</td>\n",
              "      <td>14260</td>\n",
              "      <td>1</td>\n",
              "      <td>0</td>\n",
              "      <td>0</td>\n",
              "      <td>3</td>\n",
              "      <td>0</td>\n",
              "      <td>...</td>\n",
              "      <td>0</td>\n",
              "      <td>2</td>\n",
              "      <td>2</td>\n",
              "      <td>2</td>\n",
              "      <td>0</td>\n",
              "      <td>12</td>\n",
              "      <td>2008</td>\n",
              "      <td>8</td>\n",
              "      <td>4</td>\n",
              "      <td>250000</td>\n",
              "    </tr>\n",
              "  </tbody>\n",
              "</table>\n",
              "<p>5 rows × 81 columns</p>\n",
              "</div>\n",
              "    <div class=\"colab-df-buttons\">\n",
              "\n",
              "  <div class=\"colab-df-container\">\n",
              "    <button class=\"colab-df-convert\" onclick=\"convertToInteractive('df-d19a74e1-3837-43f1-b886-5a63f51cd5b2')\"\n",
              "            title=\"Convert this dataframe to an interactive table.\"\n",
              "            style=\"display:none;\">\n",
              "\n",
              "  <svg xmlns=\"http://www.w3.org/2000/svg\" height=\"24px\" viewBox=\"0 -960 960 960\">\n",
              "    <path d=\"M120-120v-720h720v720H120Zm60-500h600v-160H180v160Zm220 220h160v-160H400v160Zm0 220h160v-160H400v160ZM180-400h160v-160H180v160Zm440 0h160v-160H620v160ZM180-180h160v-160H180v160Zm440 0h160v-160H620v160Z\"/>\n",
              "  </svg>\n",
              "    </button>\n",
              "\n",
              "  <style>\n",
              "    .colab-df-container {\n",
              "      display:flex;\n",
              "      gap: 12px;\n",
              "    }\n",
              "\n",
              "    .colab-df-convert {\n",
              "      background-color: #E8F0FE;\n",
              "      border: none;\n",
              "      border-radius: 50%;\n",
              "      cursor: pointer;\n",
              "      display: none;\n",
              "      fill: #1967D2;\n",
              "      height: 32px;\n",
              "      padding: 0 0 0 0;\n",
              "      width: 32px;\n",
              "    }\n",
              "\n",
              "    .colab-df-convert:hover {\n",
              "      background-color: #E2EBFA;\n",
              "      box-shadow: 0px 1px 2px rgba(60, 64, 67, 0.3), 0px 1px 3px 1px rgba(60, 64, 67, 0.15);\n",
              "      fill: #174EA6;\n",
              "    }\n",
              "\n",
              "    .colab-df-buttons div {\n",
              "      margin-bottom: 4px;\n",
              "    }\n",
              "\n",
              "    [theme=dark] .colab-df-convert {\n",
              "      background-color: #3B4455;\n",
              "      fill: #D2E3FC;\n",
              "    }\n",
              "\n",
              "    [theme=dark] .colab-df-convert:hover {\n",
              "      background-color: #434B5C;\n",
              "      box-shadow: 0px 1px 3px 1px rgba(0, 0, 0, 0.15);\n",
              "      filter: drop-shadow(0px 1px 2px rgba(0, 0, 0, 0.3));\n",
              "      fill: #FFFFFF;\n",
              "    }\n",
              "  </style>\n",
              "\n",
              "    <script>\n",
              "      const buttonEl =\n",
              "        document.querySelector('#df-d19a74e1-3837-43f1-b886-5a63f51cd5b2 button.colab-df-convert');\n",
              "      buttonEl.style.display =\n",
              "        google.colab.kernel.accessAllowed ? 'block' : 'none';\n",
              "\n",
              "      async function convertToInteractive(key) {\n",
              "        const element = document.querySelector('#df-d19a74e1-3837-43f1-b886-5a63f51cd5b2');\n",
              "        const dataTable =\n",
              "          await google.colab.kernel.invokeFunction('convertToInteractive',\n",
              "                                                    [key], {});\n",
              "        if (!dataTable) return;\n",
              "\n",
              "        const docLinkHtml = 'Like what you see? Visit the ' +\n",
              "          '<a target=\"_blank\" href=https://colab.research.google.com/notebooks/data_table.ipynb>data table notebook</a>'\n",
              "          + ' to learn more about interactive tables.';\n",
              "        element.innerHTML = '';\n",
              "        dataTable['output_type'] = 'display_data';\n",
              "        await google.colab.output.renderOutput(dataTable, element);\n",
              "        const docLink = document.createElement('div');\n",
              "        docLink.innerHTML = docLinkHtml;\n",
              "        element.appendChild(docLink);\n",
              "      }\n",
              "    </script>\n",
              "  </div>\n",
              "\n",
              "\n",
              "<div id=\"df-c1fa5805-da51-4811-bd90-5ed90a787a50\">\n",
              "  <button class=\"colab-df-quickchart\" onclick=\"quickchart('df-c1fa5805-da51-4811-bd90-5ed90a787a50')\"\n",
              "            title=\"Suggest charts.\"\n",
              "            style=\"display:none;\">\n",
              "\n",
              "<svg xmlns=\"http://www.w3.org/2000/svg\" height=\"24px\"viewBox=\"0 0 24 24\"\n",
              "     width=\"24px\">\n",
              "    <g>\n",
              "        <path d=\"M19 3H5c-1.1 0-2 .9-2 2v14c0 1.1.9 2 2 2h14c1.1 0 2-.9 2-2V5c0-1.1-.9-2-2-2zM9 17H7v-7h2v7zm4 0h-2V7h2v10zm4 0h-2v-4h2v4z\"/>\n",
              "    </g>\n",
              "</svg>\n",
              "  </button>\n",
              "\n",
              "<style>\n",
              "  .colab-df-quickchart {\n",
              "      --bg-color: #E8F0FE;\n",
              "      --fill-color: #1967D2;\n",
              "      --hover-bg-color: #E2EBFA;\n",
              "      --hover-fill-color: #174EA6;\n",
              "      --disabled-fill-color: #AAA;\n",
              "      --disabled-bg-color: #DDD;\n",
              "  }\n",
              "\n",
              "  [theme=dark] .colab-df-quickchart {\n",
              "      --bg-color: #3B4455;\n",
              "      --fill-color: #D2E3FC;\n",
              "      --hover-bg-color: #434B5C;\n",
              "      --hover-fill-color: #FFFFFF;\n",
              "      --disabled-bg-color: #3B4455;\n",
              "      --disabled-fill-color: #666;\n",
              "  }\n",
              "\n",
              "  .colab-df-quickchart {\n",
              "    background-color: var(--bg-color);\n",
              "    border: none;\n",
              "    border-radius: 50%;\n",
              "    cursor: pointer;\n",
              "    display: none;\n",
              "    fill: var(--fill-color);\n",
              "    height: 32px;\n",
              "    padding: 0;\n",
              "    width: 32px;\n",
              "  }\n",
              "\n",
              "  .colab-df-quickchart:hover {\n",
              "    background-color: var(--hover-bg-color);\n",
              "    box-shadow: 0 1px 2px rgba(60, 64, 67, 0.3), 0 1px 3px 1px rgba(60, 64, 67, 0.15);\n",
              "    fill: var(--button-hover-fill-color);\n",
              "  }\n",
              "\n",
              "  .colab-df-quickchart-complete:disabled,\n",
              "  .colab-df-quickchart-complete:disabled:hover {\n",
              "    background-color: var(--disabled-bg-color);\n",
              "    fill: var(--disabled-fill-color);\n",
              "    box-shadow: none;\n",
              "  }\n",
              "\n",
              "  .colab-df-spinner {\n",
              "    border: 2px solid var(--fill-color);\n",
              "    border-color: transparent;\n",
              "    border-bottom-color: var(--fill-color);\n",
              "    animation:\n",
              "      spin 1s steps(1) infinite;\n",
              "  }\n",
              "\n",
              "  @keyframes spin {\n",
              "    0% {\n",
              "      border-color: transparent;\n",
              "      border-bottom-color: var(--fill-color);\n",
              "      border-left-color: var(--fill-color);\n",
              "    }\n",
              "    20% {\n",
              "      border-color: transparent;\n",
              "      border-left-color: var(--fill-color);\n",
              "      border-top-color: var(--fill-color);\n",
              "    }\n",
              "    30% {\n",
              "      border-color: transparent;\n",
              "      border-left-color: var(--fill-color);\n",
              "      border-top-color: var(--fill-color);\n",
              "      border-right-color: var(--fill-color);\n",
              "    }\n",
              "    40% {\n",
              "      border-color: transparent;\n",
              "      border-right-color: var(--fill-color);\n",
              "      border-top-color: var(--fill-color);\n",
              "    }\n",
              "    60% {\n",
              "      border-color: transparent;\n",
              "      border-right-color: var(--fill-color);\n",
              "    }\n",
              "    80% {\n",
              "      border-color: transparent;\n",
              "      border-right-color: var(--fill-color);\n",
              "      border-bottom-color: var(--fill-color);\n",
              "    }\n",
              "    90% {\n",
              "      border-color: transparent;\n",
              "      border-bottom-color: var(--fill-color);\n",
              "    }\n",
              "  }\n",
              "</style>\n",
              "\n",
              "  <script>\n",
              "    async function quickchart(key) {\n",
              "      const quickchartButtonEl =\n",
              "        document.querySelector('#' + key + ' button');\n",
              "      quickchartButtonEl.disabled = true;  // To prevent multiple clicks.\n",
              "      quickchartButtonEl.classList.add('colab-df-spinner');\n",
              "      try {\n",
              "        const charts = await google.colab.kernel.invokeFunction(\n",
              "            'suggestCharts', [key], {});\n",
              "      } catch (error) {\n",
              "        console.error('Error during call to suggestCharts:', error);\n",
              "      }\n",
              "      quickchartButtonEl.classList.remove('colab-df-spinner');\n",
              "      quickchartButtonEl.classList.add('colab-df-quickchart-complete');\n",
              "    }\n",
              "    (() => {\n",
              "      let quickchartButtonEl =\n",
              "        document.querySelector('#df-c1fa5805-da51-4811-bd90-5ed90a787a50 button');\n",
              "      quickchartButtonEl.style.display =\n",
              "        google.colab.kernel.accessAllowed ? 'block' : 'none';\n",
              "    })();\n",
              "  </script>\n",
              "</div>\n",
              "    </div>\n",
              "  </div>\n"
            ]
          },
          "metadata": {},
          "execution_count": 5
        }
      ]
    },
    {
      "cell_type": "markdown",
      "source": [
        "As variáveis categóricas foram codificadas com sucesso. Agora, estamos prontos para prosseguir para as próximas etapas."
      ],
      "metadata": {
        "id": "cDhbq6-WctPv"
      },
      "id": "cDhbq6-WctPv"
    },
    {
      "cell_type": "markdown",
      "source": [
        "## 5. Escalonamento e Normalização"
      ],
      "metadata": {
        "id": "FmNswK1qcyns"
      },
      "id": "FmNswK1qcyns"
    },
    {
      "cell_type": "markdown",
      "source": [
        "Agora, vamos escalar e normalizar as variáveis numéricas. O escalonamento é importante porque muitos algoritmos de machine learning são sensíveis à magnitude das variáveis."
      ],
      "metadata": {
        "id": "yzHNENVs9K0G"
      },
      "id": "yzHNENVs9K0G"
    },
    {
      "cell_type": "code",
      "source": [
        "from sklearn.preprocessing import StandardScaler\n",
        "\n",
        "# Inicializar o escalonador\n",
        "scaler = StandardScaler()\n",
        "\n",
        "# Escalonar todas as colunas numéricas\n",
        "for col in df_cleaned.select_dtypes(include=[np.number]).columns:\n",
        "    df_cleaned[col] = scaler.fit_transform(df_cleaned[[col]])\n",
        "\n",
        "df_cleaned.head()"
      ],
      "metadata": {
        "colab": {
          "base_uri": "https://localhost:8080/",
          "height": 0
        },
        "id": "L-yPsoomcr5D",
        "outputId": "5c02af2a-f23c-431c-ec96-9ab9d6d5f206"
      },
      "id": "L-yPsoomcr5D",
      "execution_count": 6,
      "outputs": [
        {
          "output_type": "execute_result",
          "data": {
            "text/plain": [
              "         Id  MSSubClass  MSZoning  LotFrontage   LotArea    Street     Alley  \\\n",
              "0 -1.730865    0.073375 -0.045532    -0.220875 -0.207142  0.064238 -0.169981   \n",
              "1 -1.728492   -0.872563 -0.045532     0.460320 -0.091886  0.064238 -0.169981   \n",
              "2 -1.726120    0.073375 -0.045532    -0.084636  0.073480  0.064238 -0.169981   \n",
              "3 -1.723747    0.309859 -0.045532    -0.447940 -0.096897  0.064238 -0.169981   \n",
              "4 -1.721374    0.073375 -0.045532     0.641972  0.375148  0.064238 -0.169981   \n",
              "\n",
              "   LotShape  LandContour  Utilities  ...  PoolArea    PoolQC     Fence  \\\n",
              "0  0.750731     0.314667   -0.02618  ... -0.068692  0.049718  0.250362   \n",
              "1  0.750731     0.314667   -0.02618  ... -0.068692  0.049718  0.250362   \n",
              "2 -1.378933     0.314667   -0.02618  ... -0.068692  0.049718  0.250362   \n",
              "3 -1.378933     0.314667   -0.02618  ... -0.068692  0.049718  0.250362   \n",
              "4 -1.378933     0.314667   -0.02618  ... -0.068692  0.049718  0.250362   \n",
              "\n",
              "   MiscFeature   MiscVal    MoSold    YrSold  SaleType  SaleCondition  \\\n",
              "0     0.039485 -0.087688 -1.599111  0.138777  0.313867       0.208502   \n",
              "1     0.039485 -0.087688 -0.489110 -0.614439  0.313867       0.208502   \n",
              "2     0.039485 -0.087688  0.990891  0.138777  0.313867       0.208502   \n",
              "3     0.039485 -0.087688 -1.599111 -1.367655  0.313867      -3.426284   \n",
              "4     0.039485 -0.087688  2.100892  0.138777  0.313867       0.208502   \n",
              "\n",
              "   SalePrice  \n",
              "0   0.347273  \n",
              "1   0.007288  \n",
              "2   0.536154  \n",
              "3  -0.515281  \n",
              "4   0.869843  \n",
              "\n",
              "[5 rows x 81 columns]"
            ],
            "text/html": [
              "\n",
              "  <div id=\"df-b8bb9005-319d-4ff8-9044-7c98a660d382\" class=\"colab-df-container\">\n",
              "    <div>\n",
              "<style scoped>\n",
              "    .dataframe tbody tr th:only-of-type {\n",
              "        vertical-align: middle;\n",
              "    }\n",
              "\n",
              "    .dataframe tbody tr th {\n",
              "        vertical-align: top;\n",
              "    }\n",
              "\n",
              "    .dataframe thead th {\n",
              "        text-align: right;\n",
              "    }\n",
              "</style>\n",
              "<table border=\"1\" class=\"dataframe\">\n",
              "  <thead>\n",
              "    <tr style=\"text-align: right;\">\n",
              "      <th></th>\n",
              "      <th>Id</th>\n",
              "      <th>MSSubClass</th>\n",
              "      <th>MSZoning</th>\n",
              "      <th>LotFrontage</th>\n",
              "      <th>LotArea</th>\n",
              "      <th>Street</th>\n",
              "      <th>Alley</th>\n",
              "      <th>LotShape</th>\n",
              "      <th>LandContour</th>\n",
              "      <th>Utilities</th>\n",
              "      <th>...</th>\n",
              "      <th>PoolArea</th>\n",
              "      <th>PoolQC</th>\n",
              "      <th>Fence</th>\n",
              "      <th>MiscFeature</th>\n",
              "      <th>MiscVal</th>\n",
              "      <th>MoSold</th>\n",
              "      <th>YrSold</th>\n",
              "      <th>SaleType</th>\n",
              "      <th>SaleCondition</th>\n",
              "      <th>SalePrice</th>\n",
              "    </tr>\n",
              "  </thead>\n",
              "  <tbody>\n",
              "    <tr>\n",
              "      <th>0</th>\n",
              "      <td>-1.730865</td>\n",
              "      <td>0.073375</td>\n",
              "      <td>-0.045532</td>\n",
              "      <td>-0.220875</td>\n",
              "      <td>-0.207142</td>\n",
              "      <td>0.064238</td>\n",
              "      <td>-0.169981</td>\n",
              "      <td>0.750731</td>\n",
              "      <td>0.314667</td>\n",
              "      <td>-0.02618</td>\n",
              "      <td>...</td>\n",
              "      <td>-0.068692</td>\n",
              "      <td>0.049718</td>\n",
              "      <td>0.250362</td>\n",
              "      <td>0.039485</td>\n",
              "      <td>-0.087688</td>\n",
              "      <td>-1.599111</td>\n",
              "      <td>0.138777</td>\n",
              "      <td>0.313867</td>\n",
              "      <td>0.208502</td>\n",
              "      <td>0.347273</td>\n",
              "    </tr>\n",
              "    <tr>\n",
              "      <th>1</th>\n",
              "      <td>-1.728492</td>\n",
              "      <td>-0.872563</td>\n",
              "      <td>-0.045532</td>\n",
              "      <td>0.460320</td>\n",
              "      <td>-0.091886</td>\n",
              "      <td>0.064238</td>\n",
              "      <td>-0.169981</td>\n",
              "      <td>0.750731</td>\n",
              "      <td>0.314667</td>\n",
              "      <td>-0.02618</td>\n",
              "      <td>...</td>\n",
              "      <td>-0.068692</td>\n",
              "      <td>0.049718</td>\n",
              "      <td>0.250362</td>\n",
              "      <td>0.039485</td>\n",
              "      <td>-0.087688</td>\n",
              "      <td>-0.489110</td>\n",
              "      <td>-0.614439</td>\n",
              "      <td>0.313867</td>\n",
              "      <td>0.208502</td>\n",
              "      <td>0.007288</td>\n",
              "    </tr>\n",
              "    <tr>\n",
              "      <th>2</th>\n",
              "      <td>-1.726120</td>\n",
              "      <td>0.073375</td>\n",
              "      <td>-0.045532</td>\n",
              "      <td>-0.084636</td>\n",
              "      <td>0.073480</td>\n",
              "      <td>0.064238</td>\n",
              "      <td>-0.169981</td>\n",
              "      <td>-1.378933</td>\n",
              "      <td>0.314667</td>\n",
              "      <td>-0.02618</td>\n",
              "      <td>...</td>\n",
              "      <td>-0.068692</td>\n",
              "      <td>0.049718</td>\n",
              "      <td>0.250362</td>\n",
              "      <td>0.039485</td>\n",
              "      <td>-0.087688</td>\n",
              "      <td>0.990891</td>\n",
              "      <td>0.138777</td>\n",
              "      <td>0.313867</td>\n",
              "      <td>0.208502</td>\n",
              "      <td>0.536154</td>\n",
              "    </tr>\n",
              "    <tr>\n",
              "      <th>3</th>\n",
              "      <td>-1.723747</td>\n",
              "      <td>0.309859</td>\n",
              "      <td>-0.045532</td>\n",
              "      <td>-0.447940</td>\n",
              "      <td>-0.096897</td>\n",
              "      <td>0.064238</td>\n",
              "      <td>-0.169981</td>\n",
              "      <td>-1.378933</td>\n",
              "      <td>0.314667</td>\n",
              "      <td>-0.02618</td>\n",
              "      <td>...</td>\n",
              "      <td>-0.068692</td>\n",
              "      <td>0.049718</td>\n",
              "      <td>0.250362</td>\n",
              "      <td>0.039485</td>\n",
              "      <td>-0.087688</td>\n",
              "      <td>-1.599111</td>\n",
              "      <td>-1.367655</td>\n",
              "      <td>0.313867</td>\n",
              "      <td>-3.426284</td>\n",
              "      <td>-0.515281</td>\n",
              "    </tr>\n",
              "    <tr>\n",
              "      <th>4</th>\n",
              "      <td>-1.721374</td>\n",
              "      <td>0.073375</td>\n",
              "      <td>-0.045532</td>\n",
              "      <td>0.641972</td>\n",
              "      <td>0.375148</td>\n",
              "      <td>0.064238</td>\n",
              "      <td>-0.169981</td>\n",
              "      <td>-1.378933</td>\n",
              "      <td>0.314667</td>\n",
              "      <td>-0.02618</td>\n",
              "      <td>...</td>\n",
              "      <td>-0.068692</td>\n",
              "      <td>0.049718</td>\n",
              "      <td>0.250362</td>\n",
              "      <td>0.039485</td>\n",
              "      <td>-0.087688</td>\n",
              "      <td>2.100892</td>\n",
              "      <td>0.138777</td>\n",
              "      <td>0.313867</td>\n",
              "      <td>0.208502</td>\n",
              "      <td>0.869843</td>\n",
              "    </tr>\n",
              "  </tbody>\n",
              "</table>\n",
              "<p>5 rows × 81 columns</p>\n",
              "</div>\n",
              "    <div class=\"colab-df-buttons\">\n",
              "\n",
              "  <div class=\"colab-df-container\">\n",
              "    <button class=\"colab-df-convert\" onclick=\"convertToInteractive('df-b8bb9005-319d-4ff8-9044-7c98a660d382')\"\n",
              "            title=\"Convert this dataframe to an interactive table.\"\n",
              "            style=\"display:none;\">\n",
              "\n",
              "  <svg xmlns=\"http://www.w3.org/2000/svg\" height=\"24px\" viewBox=\"0 -960 960 960\">\n",
              "    <path d=\"M120-120v-720h720v720H120Zm60-500h600v-160H180v160Zm220 220h160v-160H400v160Zm0 220h160v-160H400v160ZM180-400h160v-160H180v160Zm440 0h160v-160H620v160ZM180-180h160v-160H180v160Zm440 0h160v-160H620v160Z\"/>\n",
              "  </svg>\n",
              "    </button>\n",
              "\n",
              "  <style>\n",
              "    .colab-df-container {\n",
              "      display:flex;\n",
              "      gap: 12px;\n",
              "    }\n",
              "\n",
              "    .colab-df-convert {\n",
              "      background-color: #E8F0FE;\n",
              "      border: none;\n",
              "      border-radius: 50%;\n",
              "      cursor: pointer;\n",
              "      display: none;\n",
              "      fill: #1967D2;\n",
              "      height: 32px;\n",
              "      padding: 0 0 0 0;\n",
              "      width: 32px;\n",
              "    }\n",
              "\n",
              "    .colab-df-convert:hover {\n",
              "      background-color: #E2EBFA;\n",
              "      box-shadow: 0px 1px 2px rgba(60, 64, 67, 0.3), 0px 1px 3px 1px rgba(60, 64, 67, 0.15);\n",
              "      fill: #174EA6;\n",
              "    }\n",
              "\n",
              "    .colab-df-buttons div {\n",
              "      margin-bottom: 4px;\n",
              "    }\n",
              "\n",
              "    [theme=dark] .colab-df-convert {\n",
              "      background-color: #3B4455;\n",
              "      fill: #D2E3FC;\n",
              "    }\n",
              "\n",
              "    [theme=dark] .colab-df-convert:hover {\n",
              "      background-color: #434B5C;\n",
              "      box-shadow: 0px 1px 3px 1px rgba(0, 0, 0, 0.15);\n",
              "      filter: drop-shadow(0px 1px 2px rgba(0, 0, 0, 0.3));\n",
              "      fill: #FFFFFF;\n",
              "    }\n",
              "  </style>\n",
              "\n",
              "    <script>\n",
              "      const buttonEl =\n",
              "        document.querySelector('#df-b8bb9005-319d-4ff8-9044-7c98a660d382 button.colab-df-convert');\n",
              "      buttonEl.style.display =\n",
              "        google.colab.kernel.accessAllowed ? 'block' : 'none';\n",
              "\n",
              "      async function convertToInteractive(key) {\n",
              "        const element = document.querySelector('#df-b8bb9005-319d-4ff8-9044-7c98a660d382');\n",
              "        const dataTable =\n",
              "          await google.colab.kernel.invokeFunction('convertToInteractive',\n",
              "                                                    [key], {});\n",
              "        if (!dataTable) return;\n",
              "\n",
              "        const docLinkHtml = 'Like what you see? Visit the ' +\n",
              "          '<a target=\"_blank\" href=https://colab.research.google.com/notebooks/data_table.ipynb>data table notebook</a>'\n",
              "          + ' to learn more about interactive tables.';\n",
              "        element.innerHTML = '';\n",
              "        dataTable['output_type'] = 'display_data';\n",
              "        await google.colab.output.renderOutput(dataTable, element);\n",
              "        const docLink = document.createElement('div');\n",
              "        docLink.innerHTML = docLinkHtml;\n",
              "        element.appendChild(docLink);\n",
              "      }\n",
              "    </script>\n",
              "  </div>\n",
              "\n",
              "\n",
              "<div id=\"df-1562f79a-6351-48c3-bdf0-c5c79adba5fd\">\n",
              "  <button class=\"colab-df-quickchart\" onclick=\"quickchart('df-1562f79a-6351-48c3-bdf0-c5c79adba5fd')\"\n",
              "            title=\"Suggest charts.\"\n",
              "            style=\"display:none;\">\n",
              "\n",
              "<svg xmlns=\"http://www.w3.org/2000/svg\" height=\"24px\"viewBox=\"0 0 24 24\"\n",
              "     width=\"24px\">\n",
              "    <g>\n",
              "        <path d=\"M19 3H5c-1.1 0-2 .9-2 2v14c0 1.1.9 2 2 2h14c1.1 0 2-.9 2-2V5c0-1.1-.9-2-2-2zM9 17H7v-7h2v7zm4 0h-2V7h2v10zm4 0h-2v-4h2v4z\"/>\n",
              "    </g>\n",
              "</svg>\n",
              "  </button>\n",
              "\n",
              "<style>\n",
              "  .colab-df-quickchart {\n",
              "      --bg-color: #E8F0FE;\n",
              "      --fill-color: #1967D2;\n",
              "      --hover-bg-color: #E2EBFA;\n",
              "      --hover-fill-color: #174EA6;\n",
              "      --disabled-fill-color: #AAA;\n",
              "      --disabled-bg-color: #DDD;\n",
              "  }\n",
              "\n",
              "  [theme=dark] .colab-df-quickchart {\n",
              "      --bg-color: #3B4455;\n",
              "      --fill-color: #D2E3FC;\n",
              "      --hover-bg-color: #434B5C;\n",
              "      --hover-fill-color: #FFFFFF;\n",
              "      --disabled-bg-color: #3B4455;\n",
              "      --disabled-fill-color: #666;\n",
              "  }\n",
              "\n",
              "  .colab-df-quickchart {\n",
              "    background-color: var(--bg-color);\n",
              "    border: none;\n",
              "    border-radius: 50%;\n",
              "    cursor: pointer;\n",
              "    display: none;\n",
              "    fill: var(--fill-color);\n",
              "    height: 32px;\n",
              "    padding: 0;\n",
              "    width: 32px;\n",
              "  }\n",
              "\n",
              "  .colab-df-quickchart:hover {\n",
              "    background-color: var(--hover-bg-color);\n",
              "    box-shadow: 0 1px 2px rgba(60, 64, 67, 0.3), 0 1px 3px 1px rgba(60, 64, 67, 0.15);\n",
              "    fill: var(--button-hover-fill-color);\n",
              "  }\n",
              "\n",
              "  .colab-df-quickchart-complete:disabled,\n",
              "  .colab-df-quickchart-complete:disabled:hover {\n",
              "    background-color: var(--disabled-bg-color);\n",
              "    fill: var(--disabled-fill-color);\n",
              "    box-shadow: none;\n",
              "  }\n",
              "\n",
              "  .colab-df-spinner {\n",
              "    border: 2px solid var(--fill-color);\n",
              "    border-color: transparent;\n",
              "    border-bottom-color: var(--fill-color);\n",
              "    animation:\n",
              "      spin 1s steps(1) infinite;\n",
              "  }\n",
              "\n",
              "  @keyframes spin {\n",
              "    0% {\n",
              "      border-color: transparent;\n",
              "      border-bottom-color: var(--fill-color);\n",
              "      border-left-color: var(--fill-color);\n",
              "    }\n",
              "    20% {\n",
              "      border-color: transparent;\n",
              "      border-left-color: var(--fill-color);\n",
              "      border-top-color: var(--fill-color);\n",
              "    }\n",
              "    30% {\n",
              "      border-color: transparent;\n",
              "      border-left-color: var(--fill-color);\n",
              "      border-top-color: var(--fill-color);\n",
              "      border-right-color: var(--fill-color);\n",
              "    }\n",
              "    40% {\n",
              "      border-color: transparent;\n",
              "      border-right-color: var(--fill-color);\n",
              "      border-top-color: var(--fill-color);\n",
              "    }\n",
              "    60% {\n",
              "      border-color: transparent;\n",
              "      border-right-color: var(--fill-color);\n",
              "    }\n",
              "    80% {\n",
              "      border-color: transparent;\n",
              "      border-right-color: var(--fill-color);\n",
              "      border-bottom-color: var(--fill-color);\n",
              "    }\n",
              "    90% {\n",
              "      border-color: transparent;\n",
              "      border-bottom-color: var(--fill-color);\n",
              "    }\n",
              "  }\n",
              "</style>\n",
              "\n",
              "  <script>\n",
              "    async function quickchart(key) {\n",
              "      const quickchartButtonEl =\n",
              "        document.querySelector('#' + key + ' button');\n",
              "      quickchartButtonEl.disabled = true;  // To prevent multiple clicks.\n",
              "      quickchartButtonEl.classList.add('colab-df-spinner');\n",
              "      try {\n",
              "        const charts = await google.colab.kernel.invokeFunction(\n",
              "            'suggestCharts', [key], {});\n",
              "      } catch (error) {\n",
              "        console.error('Error during call to suggestCharts:', error);\n",
              "      }\n",
              "      quickchartButtonEl.classList.remove('colab-df-spinner');\n",
              "      quickchartButtonEl.classList.add('colab-df-quickchart-complete');\n",
              "    }\n",
              "    (() => {\n",
              "      let quickchartButtonEl =\n",
              "        document.querySelector('#df-1562f79a-6351-48c3-bdf0-c5c79adba5fd button');\n",
              "      quickchartButtonEl.style.display =\n",
              "        google.colab.kernel.accessAllowed ? 'block' : 'none';\n",
              "    })();\n",
              "  </script>\n",
              "</div>\n",
              "    </div>\n",
              "  </div>\n"
            ]
          },
          "metadata": {},
          "execution_count": 6
        }
      ]
    },
    {
      "cell_type": "markdown",
      "source": [
        "As variáveis numéricas foram escalonadas com sucesso. Isso nos prepara para a etapa de seleção de características e modelagem.\n"
      ],
      "metadata": {
        "id": "Nphkzlwfc5SO"
      },
      "id": "Nphkzlwfc5SO"
    },
    {
      "cell_type": "markdown",
      "source": [
        "## 6. Tratamento de Outliers"
      ],
      "metadata": {
        "id": "0AfrSkUXze3a"
      },
      "id": "0AfrSkUXze3a"
    },
    {
      "cell_type": "markdown",
      "source": [
        "Antes de prosseguir para a modelagem, vamos tratar os outliers das características selecionadas.\n",
        "\n",
        "Isso é crucial, pois outliers podem afetar adversamente o desempenho de nosso modelo."
      ],
      "metadata": {
        "id": "zmVmgYeT9H3Y"
      },
      "id": "zmVmgYeT9H3Y"
    },
    {
      "cell_type": "code",
      "source": [
        "def filter_by_col(data, col):\n",
        "    limit = 1.8\n",
        "    Q1 = data[col].quantile(0.25)\n",
        "    Q3 = data[col].quantile(0.75)\n",
        "    IQR = Q3 - Q1\n",
        "\n",
        "    # Definir limites para os outliers\n",
        "    lower_bound = Q1 - limit * IQR\n",
        "    upper_bound = Q3 + limit * IQR\n",
        "\n",
        "    # Remover outliers\n",
        "    data_filtered = data[(data[feature] >= lower_bound) & (data[feature] <= upper_bound)]\n",
        "\n",
        "    return data_filtered"
      ],
      "metadata": {
        "id": "_8SNLJzv5MhV"
      },
      "id": "_8SNLJzv5MhV",
      "execution_count": 7,
      "outputs": []
    },
    {
      "cell_type": "code",
      "source": [
        "for feature in df_cleaned.columns:\n",
        "    df_cleaned = filter_by_col(df_cleaned, feature)\n",
        "\n",
        "# Atualizar X e y após a remoção dos outliers\n",
        "X_final = df_cleaned[list(df_cleaned.columns)]\n",
        "y = df_cleaned['SalePrice']"
      ],
      "metadata": {
        "id": "9qcP1I6Wy6Zf"
      },
      "id": "9qcP1I6Wy6Zf",
      "execution_count": 8,
      "outputs": []
    },
    {
      "cell_type": "markdown",
      "source": [
        "## 7. Seleção de Características"
      ],
      "metadata": {
        "id": "hohfpkA8c7DR"
      },
      "id": "hohfpkA8c7DR"
    },
    {
      "cell_type": "markdown",
      "source": [
        "Nesta etapa, vamos aplicar diversos métodos para selecionar as características mais relevantes para o modelo."
      ],
      "metadata": {
        "id": "4jFL_vCO9E3D"
      },
      "id": "4jFL_vCO9E3D"
    },
    {
      "cell_type": "markdown",
      "source": [
        "### 7.1 Método 1: Variance Threshold"
      ],
      "metadata": {
        "id": "_SFwMQImd9IV"
      },
      "id": "_SFwMQImd9IV"
    },
    {
      "cell_type": "markdown",
      "source": [
        "O método Variance Threshold é usado para selecionar características com **alta variância nos dados**.\n",
        "\n",
        "Em outras palavras, ele ajuda a identificar as características que têm uma **variabilidade significativa** em seus valores.\n",
        "\n",
        "Essa técnica é útil quando desejamos remover características com baixa variância, pois elas geralmente não contribuem muito para a modelagem, uma vez que seus valores não mudam muito entre as amostras.\n",
        "\n",
        "A ideia é manter apenas as características que têm uma variabilidade suficiente para influenciar as previsões do modelo."
      ],
      "metadata": {
        "id": "LoswA1Ze9BL7"
      },
      "id": "LoswA1Ze9BL7"
    },
    {
      "cell_type": "code",
      "source": [
        "from sklearn.feature_selection import VarianceThreshold\n",
        "\n",
        "# Separar variáveis independentes e dependentes\n",
        "X = df_cleaned.drop('SalePrice', axis=1)\n",
        "y = df_cleaned['SalePrice']\n",
        "\n",
        "# Inicializar o seletor de variância\n",
        "selector = VarianceThreshold()\n",
        "\n",
        "# Ajustar o seletor aos dados\n",
        "selector.fit(X)\n",
        "\n",
        "# Obter as características com variância acima do limiar\n",
        "high_variance_features = X.columns[selector.get_support()]\n",
        "\n",
        "high_variance_features"
      ],
      "metadata": {
        "colab": {
          "base_uri": "https://localhost:8080/"
        },
        "id": "sXfCFLW9c4C8",
        "outputId": "e8f774db-ac09-44c9-a59d-059edda12083"
      },
      "id": "sXfCFLW9c4C8",
      "execution_count": 9,
      "outputs": [
        {
          "output_type": "execute_result",
          "data": {
            "text/plain": [
              "Index(['Id', 'MSSubClass', 'LotFrontage', 'LotArea', 'LotShape', 'LotConfig',\n",
              "       'Neighborhood', 'HouseStyle', 'OverallQual', 'OverallCond', 'YearBuilt',\n",
              "       'YearRemodAdd', 'Exterior1st', 'Exterior2nd', 'MasVnrType',\n",
              "       'MasVnrArea', 'ExterQual', 'Foundation', 'BsmtQual', 'BsmtExposure',\n",
              "       'BsmtFinType1', 'BsmtFinSF1', 'BsmtUnfSF', 'TotalBsmtSF', 'HeatingQC',\n",
              "       '1stFlrSF', '2ndFlrSF', 'GrLivArea', 'BsmtFullBath', 'FullBath',\n",
              "       'HalfBath', 'KitchenQual', 'TotRmsAbvGrd', 'Fireplaces', 'FireplaceQu',\n",
              "       'GarageYrBlt', 'GarageArea', 'WoodDeckSF', 'OpenPorchSF', 'MoSold',\n",
              "       'YrSold'],\n",
              "      dtype='object')"
            ]
          },
          "metadata": {},
          "execution_count": 9
        }
      ]
    },
    {
      "cell_type": "markdown",
      "source": [
        "### 7.2 Método 2: Pearson's Correlation Coefficient"
      ],
      "metadata": {
        "id": "UZfKodH-eKtF"
      },
      "id": "UZfKodH-eKtF"
    },
    {
      "cell_type": "markdown",
      "source": [
        "O Coeficiente de Correlação de Pearson é uma medida estatística que avalia a **relação linear entre duas variáveis contínuas**.\n",
        "\n",
        "Neste contexto, ele é usado para avaliar a relação linear entre cada característica e a variável alvo (preço das casas). Um valor próximo de 1 indica uma **correlação positiva forte**, enquanto um valor próximo de -1 indica uma **correlação negativa forte**. Valores próximos de 0 indicam **baixa correlação**.\n",
        "\n",
        "Selecionamos as características que têm uma correlação positiva forte com o preço das casas, pois elas têm maior probabilidade de contribuir para as previsões precisas do modelo."
      ],
      "metadata": {
        "id": "t5u_nOnq8-ZX"
      },
      "id": "t5u_nOnq8-ZX"
    },
    {
      "cell_type": "code",
      "source": [
        "# Calcular a correlação de Pearson das características com a variável alvo\n",
        "correlation_matrix = df_cleaned.corr()\n",
        "correlation_with_target = correlation_matrix['SalePrice'].sort_values(ascending=False)\n",
        "\n",
        "# Selecionar as características altamente correlacionadas\n",
        "high_corr_features = correlation_with_target[correlation_with_target > 0.5].index\n",
        "\n",
        "high_corr_features"
      ],
      "metadata": {
        "colab": {
          "base_uri": "https://localhost:8080/"
        },
        "id": "SiYEpyM5eMr5",
        "outputId": "77afd166-4d11-4480-8bf8-707070e6e424"
      },
      "id": "SiYEpyM5eMr5",
      "execution_count": 10,
      "outputs": [
        {
          "output_type": "execute_result",
          "data": {
            "text/plain": [
              "Index(['SalePrice', 'GrLivArea', 'OverallQual'], dtype='object')"
            ]
          },
          "metadata": {},
          "execution_count": 10
        }
      ]
    },
    {
      "cell_type": "markdown",
      "source": [
        "### 7.3 Método 3: Mutual Information"
      ],
      "metadata": {
        "id": "9CPhAx1xeXHl"
      },
      "id": "9CPhAx1xeXHl"
    },
    {
      "cell_type": "markdown",
      "source": [
        "A Informação Mútua é uma medida de quanto uma característica fornece **informações sobre a variável alvo**.\n",
        "\n",
        "Em outras palavras, ela mede a **dependência estatística** entre uma característica e a variável alvo. Quanto maior a informação mútua entre uma característica e a variável alvo, mais valiosa é essa característica para o modelo.\n",
        "\n",
        "Este método ajuda a identificar as características que têm uma **relação forte e não linear** com o preço das casas, capturando **informações que podem ser perdidas pelo Coeficiente de Correlação de Pearson**."
      ],
      "metadata": {
        "id": "CAUOis-j86qU"
      },
      "id": "CAUOis-j86qU"
    },
    {
      "cell_type": "code",
      "source": [
        "from sklearn.feature_selection import mutual_info_regression\n",
        "\n",
        "# Calcular a informação mútua\n",
        "mutual_info = mutual_info_regression(X, y)\n",
        "\n",
        "# Criar um DataFrame para as pontuações\n",
        "mutual_info_df = pd.DataFrame({'Feature': X.columns, 'Mutual_Info': mutual_info})\n",
        "\n",
        "# Selecionar as características com maior informação mútua\n",
        "high_mutual_info_features = mutual_info_df.sort_values('Mutual_Info', ascending=False).head(10)['Feature']\n",
        "\n",
        "high_mutual_info_features"
      ],
      "metadata": {
        "colab": {
          "base_uri": "https://localhost:8080/"
        },
        "id": "XndGwYjneNPH",
        "outputId": "93afcffe-7913-4fcc-c3c8-fd779739a8d2"
      },
      "id": "XndGwYjneNPH",
      "execution_count": 11,
      "outputs": [
        {
          "output_type": "execute_result",
          "data": {
            "text/plain": [
              "46       GrLivArea\n",
              "0               Id\n",
              "38     TotalBsmtSF\n",
              "17     OverallQual\n",
              "33    BsmtFinType1\n",
              "62      GarageArea\n",
              "43        1stFlrSF\n",
              "53     KitchenQual\n",
              "34      BsmtFinSF1\n",
              "37       BsmtUnfSF\n",
              "Name: Feature, dtype: object"
            ]
          },
          "metadata": {},
          "execution_count": 11
        }
      ]
    },
    {
      "cell_type": "markdown",
      "source": [
        "## 8. Decisão sobre as Características a Serem Utilizadas"
      ],
      "metadata": {
        "id": "q6cMlphf8wMP"
      },
      "id": "q6cMlphf8wMP"
    },
    {
      "cell_type": "markdown",
      "source": [
        "Depois de aplicar diferentes métodos para a seleção de características, é hora de decidir quais delas vamos realmente utilizar para treinar nosso modelo de machine learning.\n",
        "\n",
        "Optamos por usar a \"Intersecção\" das características selecionadas pelos métodos de Variance Threshold, Pearson's Correlation Coefficient e Mutual Information.\n"
      ],
      "metadata": {
        "id": "j9C8D2Fbebr7"
      },
      "id": "j9C8D2Fbebr7"
    },
    {
      "cell_type": "code",
      "source": [
        "# Encontrar a intersecção das características selecionadas pelos três métodos\n",
        "\n",
        "final_features = set(high_variance_features) & set(high_corr_features) & set(high_mutual_info_features)\n",
        "\n",
        "final_features"
      ],
      "metadata": {
        "colab": {
          "base_uri": "https://localhost:8080/"
        },
        "id": "BG3690WzeZYf",
        "outputId": "36542a13-3034-4997-c231-31f8bc59ec53"
      },
      "id": "BG3690WzeZYf",
      "execution_count": 12,
      "outputs": [
        {
          "output_type": "execute_result",
          "data": {
            "text/plain": [
              "{'GrLivArea', 'OverallQual'}"
            ]
          },
          "metadata": {},
          "execution_count": 12
        }
      ]
    },
    {
      "cell_type": "markdown",
      "source": [
        "As características armazenadas na variável `final_features` são aquelas que foram consideradas importantes pela intersecção dos três métodos. Essas serão as características que vamos usar para treinar nosso modelo final."
      ],
      "metadata": {
        "id": "jnuA4mXKe-bS"
      },
      "id": "jnuA4mXKe-bS"
    },
    {
      "cell_type": "markdown",
      "source": [
        "## 9. Análise de dados"
      ],
      "metadata": {
        "id": "ATER1ZwFgCD-"
      },
      "id": "ATER1ZwFgCD-"
    },
    {
      "cell_type": "markdown",
      "source": [
        "Para entender o **impacto dos outliers e da normalização** em nosso conjunto de dados, vamos visualizar os **boxplots** das características selecionadas **antes e depois dessas etapas**.\n",
        "\n",
        "Os boxplots nos ajudarão a entender a **distribuição dos dados** e a **presença de outliers**."
      ],
      "metadata": {
        "id": "_uGQkm9l8tFe"
      },
      "id": "_uGQkm9l8tFe"
    },
    {
      "cell_type": "code",
      "source": [
        "import matplotlib.pyplot as plt\n",
        "import seaborn as sns\n",
        "\n",
        "# Filtrar apenas as colunas em 'final_features' e 'SalePrice' para plotar\n",
        "cols_to_plot = list(final_features) + ['SalePrice']\n",
        "df_original_filtered = df_original[cols_to_plot]\n",
        "df_cleaned_filtered = df_cleaned[cols_to_plot]\n",
        "\n",
        "# Plotar gráficos de caixa antes do tratamento de outliers\n",
        "plt.figure(figsize=(16, 8))\n",
        "plt.suptitle('Boxplots Antes do Tratamento de Outliers', fontsize=16)\n",
        "for i, col in enumerate(cols_to_plot, 1):\n",
        "    plt.subplot(2, 4, i)\n",
        "    sns.boxplot(x=df_original_filtered[col])\n",
        "    plt.title(col)\n",
        "\n",
        "plt.tight_layout(rect=[0, 0.03, 1, 0.95])\n",
        "plt.show()\n",
        "\n",
        "# Plotar gráficos de caixa após o tratamento de outliers\n",
        "plt.figure(figsize=(16, 8))\n",
        "plt.suptitle('Boxplots Após o Tratamento de Outliers', fontsize=16)\n",
        "for i, col in enumerate(cols_to_plot, 1):\n",
        "    plt.subplot(2, 4, i)\n",
        "    sns.boxplot(x=df_cleaned_filtered[col])\n",
        "    plt.title(col)\n",
        "\n",
        "plt.tight_layout(rect=[0, 0.03, 1, 0.95])\n",
        "plt.show()"
      ],
      "metadata": {
        "colab": {
          "base_uri": "https://localhost:8080/",
          "height": 0
        },
        "id": "4ElOkJjPfdT_",
        "outputId": "b0fb4806-4da1-46c2-9b0d-db3f3689ab07"
      },
      "id": "4ElOkJjPfdT_",
      "execution_count": 13,
      "outputs": [
        {
          "output_type": "display_data",
          "data": {
            "text/plain": [
              "<Figure size 1600x800 with 3 Axes>"
            ],
            "image/png": "[encoded data removed]"
          },
          "metadata": {}
        },
        {
          "output_type": "display_data",
          "data": {
            "text/plain": [
              "<Figure size 1600x800 with 3 Axes>"
            ],
            "image/png": "[encoded data removed]"
          },
          "metadata": {}
        }
      ]
    },
    {
      "cell_type": "markdown",
      "source": [
        "### • Observações\n",
        "\n",
        "Comparando os boxplots **antes e depois do tratamento de outliers e da normalização**, podemos observar **significativas mudanças na distribuição e escala dos dados**.\n",
        "\n",
        "Os **outliers**, representados pelos pontos fora das \"caixas\", são **visivelmente reduzidos** após o tratamento. Além disso, a **escala dos dados também é alterada devido à normalização**.\n",
        "\n",
        "Essas transformações tornam a distribuição **mais concentrada** e, portanto, **mais informativa para a modelagem**. Isso nos prepara para a **próxima etapa, que é a modelagem do algoritmo de machine learning**.\n"
      ],
      "metadata": {
        "id": "G8nYs_SWhvIt"
      },
      "id": "G8nYs_SWhvIt"
    },
    {
      "cell_type": "markdown",
      "source": [
        "## 10. Modelagem"
      ],
      "metadata": {
        "id": "VZxNJg58ibAI"
      },
      "id": "VZxNJg58ibAI"
    },
    {
      "cell_type": "markdown",
      "source": [
        "**Nesta etapa, nosso objetivo é encontrar o modelo que melhor prediz o preço de venda das casas.** Vamos começar experimentando um modelo simples, a Regressão Linear, e então exploraremos modelos mais complexos."
      ],
      "metadata": {
        "id": "DXY3C7z_8pOe"
      },
      "id": "DXY3C7z_8pOe"
    },
    {
      "cell_type": "markdown",
      "source": [
        "### 10.1 Regressão Linear"
      ],
      "metadata": {
        "id": "knJOgiiL9qwg"
      },
      "id": "knJOgiiL9qwg"
    },
    {
      "cell_type": "code",
      "source": [
        "from sklearn.linear_model import LinearRegression\n",
        "from sklearn.model_selection import train_test_split\n",
        "from sklearn.metrics import mean_squared_error\n",
        "import numpy as np\n",
        "import math\n",
        "\n",
        "# Separar o conjunto de dados em treino e teste\n",
        "X_train, X_test, y_train, y_test = train_test_split(X_final, y, test_size=0.2, random_state=42)\n",
        "\n",
        "# Inicializar e treinar o modelo\n",
        "model = LinearRegression()\n",
        "model.fit(X_train, y_train)\n",
        "\n",
        "# Fazer previsões\n",
        "y_pred = model.predict(X_test)"
      ],
      "metadata": {
        "id": "QVqHaw0zglZx"
      },
      "id": "QVqHaw0zglZx",
      "execution_count": 14,
      "outputs": []
    },
    {
      "cell_type": "markdown",
      "source": [
        "Antes de aplicar o criterio de avaliação, precisamos levar em consideração uma coisa.\n",
        "\n",
        "Como ele aplica a raiz em certos numeros, esses numeros não podem ser negativos.\n",
        "\n",
        "Porém como podemos ver abaixo, existem valores negativos previstos:"
      ],
      "metadata": {
        "id": "HBLhaP13qtgC"
      },
      "id": "HBLhaP13qtgC"
    },
    {
      "cell_type": "code",
      "source": [
        "# Verificar se há valores negativos em y_test\n",
        "print(\"Valores negativos em y_test:\", (y_test < 0).sum())"
      ],
      "metadata": {
        "colab": {
          "base_uri": "https://localhost:8080/"
        },
        "id": "OHXYc_f7q5zQ",
        "outputId": "22d264df-bb66-41bc-ab46-46324e5eed20"
      },
      "id": "OHXYc_f7q5zQ",
      "execution_count": 15,
      "outputs": [
        {
          "output_type": "stream",
          "name": "stdout",
          "text": [
            "Valores negativos em y_test: 1\n"
          ]
        }
      ]
    },
    {
      "cell_type": "markdown",
      "source": [
        "Então para limpar esses valores, podemos definir eles como um número bem próximo de zero."
      ],
      "metadata": {
        "id": "JJFKENa-rAMt"
      },
      "id": "JJFKENa-rAMt"
    },
    {
      "cell_type": "code",
      "source": [
        "# Substituir valores negativos por um pequeno valor positivo em y_test e y_pred\n",
        "y_test = np.maximum(y_test, 1e-10)\n",
        "y_pred = np.maximum(y_pred, 1e-10)"
      ],
      "metadata": {
        "id": "ZIGyYqgwrGDY"
      },
      "id": "ZIGyYqgwrGDY",
      "execution_count": 16,
      "outputs": []
    },
    {
      "cell_type": "markdown",
      "source": [
        "Agora sim podemos seguir para a avaliação"
      ],
      "metadata": {
        "id": "9LNy61WwrHG9"
      },
      "id": "9LNy61WwrHG9"
    },
    {
      "cell_type": "markdown",
      "source": [
        "### 10.2 Avaliação"
      ],
      "metadata": {
        "id": "3EGC6oIp9x58"
      },
      "id": "3EGC6oIp9x58"
    },
    {
      "cell_type": "markdown",
      "source": [
        "O critério de avaliação será o **Root-Mean-Squared-Error (RMSE)** entre o logaritmo do valor predito e o logaritmo do valor real, conforme especificado na atividade."
      ],
      "metadata": {
        "id": "d7LqsR1790Ca"
      },
      "id": "d7LqsR1790Ca"
    },
    {
      "cell_type": "code",
      "source": [
        "from sklearn.metrics import mean_squared_error\n",
        "\n",
        "# Calcular o RMSE aplicando logaritmo e usando squared=False\n",
        "rmse_log = mean_squared_error(np.log(y_test), np.log(y_pred), squared=False)\n",
        "\n",
        "# Exibir o RMSE\n",
        "print(f\"O RMSE do modelo de Regressão Linear é: {rmse_log}\")"
      ],
      "metadata": {
        "colab": {
          "base_uri": "https://localhost:8080/"
        },
        "id": "PJDlgbPbpjkK",
        "outputId": "388ce950-1f4d-47c5-fcb5-72bdd531255d"
      },
      "id": "PJDlgbPbpjkK",
      "execution_count": 17,
      "outputs": [
        {
          "output_type": "stream",
          "name": "stdout",
          "text": [
            "O RMSE do modelo de Regressão Linear é: 0.1538853546900921\n"
          ]
        }
      ]
    },
    {
      "cell_type": "markdown",
      "source": [
        "## 11. Avaliação do modelo"
      ],
      "metadata": {
        "id": "x5y-rIlAmdjS"
      },
      "id": "x5y-rIlAmdjS"
    },
    {
      "cell_type": "markdown",
      "source": [
        "Após treinar nosso modelo de Regressão Linear, nós o avaliamos usando a métrica Root Mean Squared Error (RMSE). O RMSE é uma métrica de desempenho popular para modelos de regressão e dá uma ideia da magnitude dos erros cometidos pelo modelo. No nosso caso, o RMSE obtido foi de aproximadamente `0.15`\n",
        "\n",
        "- O que isso significa?\n",
        "\n",
        "O RMSE nos dá uma ideia de quão bem nosso modelo é capaz de prever o preço das casas, com um erro médio de `0.15` na escala logarítmica.\n",
        "\n",
        "Vale lembrar que, neste caso, estamos usando o RMSE entre o logaritmo do valor predito e o logaritmo do valor real, conforme solicitado no enunciado da atividade."
      ],
      "metadata": {
        "id": "W1Tm2hTo8k1T"
      },
      "id": "W1Tm2hTo8k1T"
    },
    {
      "cell_type": "markdown",
      "source": [
        "### 11.1 Gráfico\n",
        "\n",
        "Para fornecer uma representação gráfica do desempenho do nosso modelo, optamos por criar um gráfico em linha que compara os valores reais e previstos dos preços das casas.\n",
        "\n",
        "Embora os preços das casas neste conjunto de dados não sejam intrinsecamente ordenados (como seria o caso em uma série temporal), ordenamos ambos os conjuntos de preços com base nos valores reais para facilitar a comparação visual."
      ],
      "metadata": {
        "id": "CZmZw_ij8fAL"
      },
      "id": "CZmZw_ij8fAL"
    },
    {
      "cell_type": "code",
      "source": [
        "# Converter para arrays NumPy para facilitar a manipulação\n",
        "y_test_array = np.array(y_test)\n",
        "y_pred_array = np.array(y_pred)\n",
        "\n",
        "# Ordenar y_test e obter os índices ordenados\n",
        "sorted_indices = np.argsort(y_test_array)\n",
        "\n",
        "# Usar os índices ordenados para ordenar y_test e y_pred\n",
        "sorted_y_test = y_test_array[sorted_indices]\n",
        "sorted_y_pred = y_pred_array[sorted_indices]"
      ],
      "metadata": {
        "id": "SLtNeTMfmzok"
      },
      "id": "SLtNeTMfmzok",
      "execution_count": 18,
      "outputs": []
    },
    {
      "cell_type": "markdown",
      "source": [
        "Em seguida, plotamos os valores ordenados em um gráfico de linha."
      ],
      "metadata": {
        "id": "MsyouVgHn_C_"
      },
      "id": "MsyouVgHn_C_"
    },
    {
      "cell_type": "code",
      "source": [
        "plt.figure(figsize=(14, 7))\n",
        "\n",
        "# Plotar valores reais\n",
        "plt.plot(sorted_y_test, label='Valores Reais', color='blue')\n",
        "\n",
        "# Plotar valores previstos com uma linha pontilhada vermelha\n",
        "plt.plot(sorted_y_pred, label='Valores Previstos', color='red', linestyle='--')\n",
        "\n",
        "plt.xlabel('Índice')\n",
        "plt.ylabel('Preço da Casa')\n",
        "plt.title('Comparação entre Valores Reais e Previstos')\n",
        "plt.legend()\n",
        "plt.show()"
      ],
      "metadata": {
        "colab": {
          "base_uri": "https://localhost:8080/",
          "height": 641
        },
        "id": "DglkBs68n_fl",
        "outputId": "f39815de-c88f-4208-f68c-434fac81e3a2"
      },
      "id": "DglkBs68n_fl",
      "execution_count": 19,
      "outputs": [
        {
          "output_type": "display_data",
          "data": {
            "text/plain": [
              "<Figure size 1400x700 with 1 Axes>"
            ],
            "image/png": "[encoded data removed]"
          },
          "metadata": {}
        }
      ]
    }
  ],
  "metadata": {
    "colab": {
      "provenance": [],
      "collapsed_sections": [
        "92b75c40",
        "8e329b0b",
        "bbe05d0a",
        "685453af",
        "pGVLFyEw9O-E",
        "jTvE9ygZcpV9",
        "FmNswK1qcyns",
        "hohfpkA8c7DR",
        "_SFwMQImd9IV",
        "UZfKodH-eKtF",
        "9CPhAx1xeXHl",
        "q6cMlphf8wMP",
        "j9C8D2Fbebr7",
        "ATER1ZwFgCD-"
      ]
    },
    "language_info": {
      "name": "python"
    },
    "kernelspec": {
      "name": "python3",
      "display_name": "Python 3"
    }
  },
  "nbformat": 4,
  "nbformat_minor": 5
}